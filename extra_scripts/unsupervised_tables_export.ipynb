{
 "cells": [
  {
   "cell_type": "code",
   "execution_count": 10,
   "id": "44ea3209-e4a5-4dcc-a37f-ba300d20dd8f",
   "metadata": {},
   "outputs": [],
   "source": [
    "import duckdb\n",
    "con = duckdb.connect(\"../dataset/cert42.duckdb\") "
   ]
  },
  {
   "cell_type": "code",
   "execution_count": 5,
   "id": "c2a6d62b-a2d8-4a19-861a-a86ce182128c",
   "metadata": {
    "scrolled": true
   },
   "outputs": [
    {
     "name": "stdout",
     "output_type": "stream",
     "text": [
      "                 name\n",
      "0        LDAP_2009-12\n",
      "1        LDAP_2010-01\n",
      "2        LDAP_2010-02\n",
      "3        LDAP_2010-03\n",
      "4        LDAP_2010-04\n",
      "5        LDAP_2010-05\n",
      "6        LDAP_2010-06\n",
      "7        LDAP_2010-07\n",
      "8        LDAP_2010-08\n",
      "9        LDAP_2010-09\n",
      "10       LDAP_2010-10\n",
      "11       LDAP_2010-11\n",
      "12       LDAP_2010-12\n",
      "13       LDAP_2011-01\n",
      "14       LDAP_2011-02\n",
      "15       LDAP_2011-03\n",
      "16       LDAP_2011-04\n",
      "17       LDAP_2011-05\n",
      "18             device\n",
      "19        device_user\n",
      "20              email\n",
      "21         email_user\n",
      "22               file\n",
      "23          file_user\n",
      "24               http\n",
      "25          http_user\n",
      "26           ldap_all\n",
      "27          ldap_user\n",
      "28              logon\n",
      "29         logon_user\n",
      "30       psychometric\n",
      "31  psychometric_user\n",
      "32      user_features\n"
     ]
    }
   ],
   "source": [
    "res = con.execute(\"show tables\").df() ; \n",
    "print(res)"
   ]
  },
  {
   "cell_type": "code",
   "execution_count": 12,
   "id": "c98e1643-f031-4189-9d26-9ef91be0f363",
   "metadata": {},
   "outputs": [
    {
     "name": "stdout",
     "output_type": "stream",
     "text": [
      "Exported table device_user\n",
      "Exported table email_user\n",
      "Exported table file_user\n",
      "Exported table http_user\n",
      "Exported table ldap_all\n",
      "Exported table ldap_user\n",
      "Exported table logon_user\n",
      "Exported table psychometric_user\n",
      "Exported table user_features\n"
     ]
    },
    {
     "data": {
      "text/plain": [
       "<_duckdb.DuckDBPyConnection at 0x18a7fdf4bf0>"
      ]
     },
     "execution_count": 12,
     "metadata": {},
     "output_type": "execute_result"
    }
   ],
   "source": [
    "# Attach target DB\n",
    "con.execute(\"ATTACH '../dataset/unsupervised_dataset.duckdb' AS unsup\")\n",
    "\n",
    "tables_to_be_exported = [\"device_user\", \"email_user\", \"file_user\" , \"http_user\" , \"ldap_all\" , \"ldap_user\" , \"logon_user\" , \"psychometric_user\" , \"user_features\"] \n",
    "for t in tables_to_be_exported:\n",
    "    con.execute(f\"CREATE TABLE unsup.{t} AS SELECT * FROM main.{t}\")\n",
    "    print(f\"Exported table {t}\")\n",
    "\n",
    "con.execute(\"DETACH DATABASE unsup\")"
   ]
  },
  {
   "cell_type": "code",
   "execution_count": 14,
   "id": "f9354a97-a083-49fe-9e3f-9da883da5dc6",
   "metadata": {},
   "outputs": [
    {
     "name": "stdout",
     "output_type": "stream",
     "text": [
      "                name\n",
      "0        device_user\n",
      "1         email_user\n",
      "2          file_user\n",
      "3          http_user\n",
      "4           ldap_all\n",
      "5          ldap_user\n",
      "6         logon_user\n",
      "7  psychometric_user\n",
      "8      user_features\n"
     ]
    }
   ],
   "source": [
    "new_con = duckdb.connect(\"../dataset/unsupervised_dataset.duckdb\")  \n",
    "res = new_con.execute(\"show tables\").df() ; \n",
    "print(res)"
   ]
  },
  {
   "cell_type": "code",
   "execution_count": 15,
   "id": "9db415fc-ab7c-4780-82cc-f9a943d5fe50",
   "metadata": {},
   "outputs": [
    {
     "name": "stdout",
     "output_type": "stream",
     "text": [
      "Deleted table device_user from original database\n",
      "Deleted table email_user from original database\n",
      "Deleted table file_user from original database\n",
      "Deleted table http_user from original database\n",
      "Deleted table ldap_all from original database\n",
      "Deleted table ldap_user from original database\n",
      "Deleted table logon_user from original database\n",
      "Deleted table psychometric_user from original database\n",
      "Deleted table user_features from original database\n"
     ]
    }
   ],
   "source": [
    "tables_to_be_deleted = [\"device_user\", \"email_user\", \"file_user\" , \"http_user\" , \"ldap_all\" , \"ldap_user\" , \"logon_user\" , \"psychometric_user\" , \"user_features\"] \n",
    "for t in tables_to_be_deleted:\n",
    "    con.execute(f\"drop table {t}\") \n",
    "    print(f\"Deleted table {t} from original database\") "
   ]
  },
  {
   "cell_type": "code",
   "execution_count": 16,
   "id": "c7744410-3171-4ff1-ac7f-d825ccb67ff5",
   "metadata": {},
   "outputs": [
    {
     "name": "stdout",
     "output_type": "stream",
     "text": [
      "            name\n",
      "0   LDAP_2009-12\n",
      "1   LDAP_2010-01\n",
      "2   LDAP_2010-02\n",
      "3   LDAP_2010-03\n",
      "4   LDAP_2010-04\n",
      "5   LDAP_2010-05\n",
      "6   LDAP_2010-06\n",
      "7   LDAP_2010-07\n",
      "8   LDAP_2010-08\n",
      "9   LDAP_2010-09\n",
      "10  LDAP_2010-10\n",
      "11  LDAP_2010-11\n",
      "12  LDAP_2010-12\n",
      "13  LDAP_2011-01\n",
      "14  LDAP_2011-02\n",
      "15  LDAP_2011-03\n",
      "16  LDAP_2011-04\n",
      "17  LDAP_2011-05\n",
      "18        device\n",
      "19         email\n",
      "20          file\n",
      "21          http\n",
      "22         logon\n",
      "23  psychometric\n"
     ]
    }
   ],
   "source": [
    "res = con.execute(\"show tables\").df() ; \n",
    "print(res)"
   ]
  }
 ],
 "metadata": {
  "kernelspec": {
   "display_name": "Python (Insider Threat Detection Venv)",
   "language": "python",
   "name": "insider_threat_detection_venv_kernel"
  },
  "language_info": {
   "codemirror_mode": {
    "name": "ipython",
    "version": 3
   },
   "file_extension": ".py",
   "mimetype": "text/x-python",
   "name": "python",
   "nbconvert_exporter": "python",
   "pygments_lexer": "ipython3",
   "version": "3.12.4"
  }
 },
 "nbformat": 4,
 "nbformat_minor": 5
}
