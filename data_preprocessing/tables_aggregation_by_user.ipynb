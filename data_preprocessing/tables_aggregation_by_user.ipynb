{
 "cells": [
  {
   "cell_type": "code",
   "execution_count": 1,
   "id": "bcf96d57-adcb-4f95-8d51-64427bc7fe4a",
   "metadata": {},
   "outputs": [],
   "source": [
    "import duckdb\n",
    "con = duckdb.connect(\"../dataset/cert42.duckdb\")"
   ]
  },
  {
   "cell_type": "markdown",
   "id": "12dc486f-45ef-4858-9af7-76ed84b495b7",
   "metadata": {},
   "source": [
    "#### Aggregate device table features grouped by user"
   ]
  },
  {
   "cell_type": "code",
   "execution_count": 28,
   "id": "6e3fde51-301c-48b8-aeee-98b136c66691",
   "metadata": {
    "collapsed": true,
    "jupyter": {
     "outputs_hidden": true,
     "source_hidden": true
    }
   },
   "outputs": [
    {
     "name": "stdout",
     "output_type": "stream",
     "text": [
      "   Count\n",
      "0    265\n"
     ]
    }
   ],
   "source": [
    "res = con.execute(\n",
    "    \"\"\"\n",
    "CREATE TABLE device_user AS\n",
    "SELECT\n",
    "    user,\n",
    "    COUNT(*) AS total_device_events,\n",
    "\n",
    "    -- Basic counts\n",
    "    SUM(CASE WHEN activity = 'connect' THEN 1 ELSE 0 END) AS connect_count,\n",
    "    SUM(CASE WHEN activity = 'disconnect' THEN 1 ELSE 0 END) AS disconnect_count,\n",
    "    COUNT(DISTINCT pc) AS unique_pcs_used,\n",
    "\n",
    "    -- Time-based features\n",
    "    SUM(\n",
    "        CASE\n",
    "            WHEN CAST(strptime(date, '%m/%d/%Y %H:%M:%S') AS TIMESTAMP) IS NOT NULL\n",
    "                 AND strftime('%H', strptime(date, '%m/%d/%Y %H:%M:%S')) NOT BETWEEN '08' AND '18'\n",
    "            THEN 1 ELSE 0\n",
    "        END\n",
    "    ) AS after_hours_connects,\n",
    "\n",
    "    SUM(\n",
    "        CASE\n",
    "            WHEN CAST(strptime(date, '%m/%d/%Y %H:%M:%S') AS TIMESTAMP) IS NOT NULL\n",
    "                 AND strftime('%w', strptime(date, '%m/%d/%Y %H:%M:%S')) IN ('0','6')\n",
    "            THEN 1 ELSE 0\n",
    "        END\n",
    "    ) AS weekend_connects,\n",
    "\n",
    "    -- Ratios (normalize user behavior)\n",
    "    CAST(SUM(CASE WHEN activity = 'connect' THEN 1 ELSE 0 END) AS FLOAT) \n",
    "      / NULLIF(COUNT(*),0) AS connect_ratio,\n",
    "    CAST(SUM(\n",
    "        CASE\n",
    "            WHEN CAST(strptime(date, '%m/%d/%Y %H:%M:%S') AS TIMESTAMP) IS NOT NULL\n",
    "                 AND strftime('%H', strptime(date, '%m/%d/%Y %H:%M:%S')) NOT BETWEEN '08' AND '18'\n",
    "            THEN 1 ELSE 0 END\n",
    "    ) AS FLOAT) / NULLIF(COUNT(*),0) AS after_hours_ratio,\n",
    "    CAST(SUM(\n",
    "        CASE\n",
    "            WHEN CAST(strptime(date, '%m/%d/%Y %H:%M:%S') AS TIMESTAMP) IS NOT NULL\n",
    "                 AND strftime('%w', strptime(date, '%m/%d/%Y %H:%M:%S')) IN ('0','6')\n",
    "            THEN 1 ELSE 0 END\n",
    "    ) AS FLOAT) / NULLIF(COUNT(*),0) AS weekend_ratio\n",
    "\n",
    "FROM device\n",
    "GROUP BY user;\n",
    "    \"\"\" \n",
    ").df()\n",
    "\n",
    "print(res)"
   ]
  },
  {
   "cell_type": "code",
   "execution_count": 29,
   "id": "e20b91e4-f477-4482-9a4f-e21b65b97f9c",
   "metadata": {
    "collapsed": true,
    "jupyter": {
     "outputs_hidden": true,
     "source_hidden": true
    }
   },
   "outputs": [
    {
     "name": "stdout",
     "output_type": "stream",
     "text": [
      "      user  total_device_events  connect_count  disconnect_count  \\\n",
      "0  ZKS0899                 5968            0.0               0.0   \n",
      "1  SBN0971                  350            0.0               0.0   \n",
      "2  BMG0917                 5955            0.0               0.0   \n",
      "3  ESH0283                  277            0.0               0.0   \n",
      "4  RSC0089                 5776            0.0               0.0   \n",
      "5  IIW0249                 6735            0.0               0.0   \n",
      "6  HCS0003                 2006            0.0               0.0   \n",
      "7  NWT0098                 1299            0.0               0.0   \n",
      "8  ATP0662                  784            0.0               0.0   \n",
      "9  JFC0557                 2785            0.0               0.0   \n",
      "\n",
      "   unique_pcs_used  after_hours_connects  weekend_connects  connect_ratio  \\\n",
      "0                1                   0.0               0.0            0.0   \n",
      "1                1                  17.0              66.0            0.0   \n",
      "2                1                 289.0               0.0            0.0   \n",
      "3                1                   0.0               0.0            0.0   \n",
      "4                1                 277.0             245.0            0.0   \n",
      "5                1                  64.0             683.0            0.0   \n",
      "6                1                   0.0               0.0            0.0   \n",
      "7                1                  68.0               0.0            0.0   \n",
      "8                1                   1.0              42.0            0.0   \n",
      "9                1                   0.0               0.0            0.0   \n",
      "\n",
      "   after_hours_ratio  weekend_ratio  \n",
      "0           0.000000       0.000000  \n",
      "1           0.048571       0.188571  \n",
      "2           0.048531       0.000000  \n",
      "3           0.000000       0.000000  \n",
      "4           0.047957       0.042417  \n",
      "5           0.009503       0.101411  \n",
      "6           0.000000       0.000000  \n",
      "7           0.052348       0.000000  \n",
      "8           0.001276       0.053571  \n",
      "9           0.000000       0.000000  \n"
     ]
    }
   ],
   "source": [
    "table_preview = con.execute(\"\"\"\n",
    "SELECT * FROM device_user LIMIT 10 \n",
    "\"\"\").df()\n",
    "\n",
    "print(table_preview)"
   ]
  },
  {
   "cell_type": "markdown",
   "id": "a821072f-0baf-4629-b622-097cf556184b",
   "metadata": {},
   "source": [
    "#### Aggregate logon table features grouped by user"
   ]
  },
  {
   "cell_type": "code",
   "execution_count": 31,
   "id": "276eafcf-893b-461e-ac98-f89c3e1f2b42",
   "metadata": {
    "collapsed": true,
    "jupyter": {
     "outputs_hidden": true,
     "source_hidden": true
    }
   },
   "outputs": [
    {
     "name": "stdout",
     "output_type": "stream",
     "text": [
      "   Count\n",
      "0   1000\n"
     ]
    }
   ],
   "source": [
    "res = con.execute(\n",
    "    \"\"\"CREATE TABLE logon_user AS\n",
    "SELECT\n",
    "    user,\n",
    "    COUNT(*) AS total_logon_events,\n",
    "\n",
    "    -- Basic counts\n",
    "    SUM(CASE WHEN activity = 'Logon' THEN 1 ELSE 0 END) AS logon_count,\n",
    "    SUM(CASE WHEN activity = 'Logoff' THEN 1 ELSE 0 END) AS logoff_count,\n",
    "    COUNT(DISTINCT pc) AS unique_pcs_used,\n",
    "\n",
    "    -- Time-based features\n",
    "    SUM(\n",
    "        CASE\n",
    "            WHEN CAST(strptime(date, '%m/%d/%Y %H:%M:%S') AS TIMESTAMP) IS NOT NULL\n",
    "                 AND strftime('%H', strptime(date, '%m/%d/%Y %H:%M:%S')) NOT BETWEEN '08' AND '18'\n",
    "            THEN 1 ELSE 0\n",
    "        END\n",
    "    ) AS after_hours_logons,\n",
    "\n",
    "    SUM(\n",
    "        CASE\n",
    "            WHEN CAST(strptime(date, '%m/%d/%Y %H:%M:%S') AS TIMESTAMP) IS NOT NULL\n",
    "                 AND strftime('%w', strptime(date, '%m/%d/%Y %H:%M:%S')) IN ('0','6')\n",
    "            THEN 1 ELSE 0\n",
    "        END\n",
    "    ) AS weekend_logons,\n",
    "\n",
    "    -- Ratios (normalize user behavior)\n",
    "    CAST(SUM(CASE WHEN activity = 'Logon' THEN 1 ELSE 0 END) AS FLOAT)\n",
    "      / NULLIF(COUNT(*),0) AS logon_ratio,\n",
    "    CAST(SUM(\n",
    "        CASE\n",
    "            WHEN CAST(strptime(date, '%m/%d/%Y %H:%M:%S') AS TIMESTAMP) IS NOT NULL\n",
    "                 AND strftime('%H', strptime(date, '%m/%d/%Y %H:%M:%S')) NOT BETWEEN '08' AND '18'\n",
    "            THEN 1 ELSE 0 END\n",
    "    ) AS FLOAT) / NULLIF(COUNT(*),0) AS after_hours_ratio,\n",
    "    CAST(SUM(\n",
    "        CASE\n",
    "            WHEN CAST(strptime(date, '%m/%d/%Y %H:%M:%S') AS TIMESTAMP) IS NOT NULL\n",
    "                 AND strftime('%w', strptime(date, '%m/%d/%Y %H:%M:%S')) IN ('0','6')\n",
    "            THEN 1 ELSE 0 END\n",
    "    ) AS FLOAT) / NULLIF(COUNT(*),0) AS weekend_ratio\n",
    "\n",
    "FROM logon\n",
    "GROUP BY user;\n",
    "\n",
    "\n",
    "    \"\"\" \n",
    ").df()\n",
    "\n",
    "print(res)\n",
    "\n"
   ]
  },
  {
   "cell_type": "code",
   "execution_count": 32,
   "id": "b85919c1-b1e5-475f-9856-facc986a923a",
   "metadata": {
    "collapsed": true,
    "jupyter": {
     "outputs_hidden": true,
     "source_hidden": true
    }
   },
   "outputs": [
    {
     "name": "stdout",
     "output_type": "stream",
     "text": [
      "      user  total_logon_events  logon_count  logoff_count  unique_pcs_used  \\\n",
      "0  MHH0180                 759        485.0         274.0                1   \n",
      "1  YIC0195                1174        726.0         448.0                3   \n",
      "2  RAW0915                1203        762.0         441.0               28   \n",
      "3  CJM0521                 928        464.0         464.0                1   \n",
      "4  ALB0892                 470        235.0         235.0                1   \n",
      "5  EHB0420                1651        991.0         660.0                3   \n",
      "6  JTM0223                1378        748.0         630.0              361   \n",
      "7  UIR0043                2860       1430.0        1430.0              631   \n",
      "8  JAV0361                2768       1384.0        1384.0              625   \n",
      "9  CCA0046                1608        804.0         804.0              447   \n",
      "\n",
      "   after_hours_logons  weekend_logons  logon_ratio  after_hours_ratio  \\\n",
      "0               274.0           102.0     0.638999           0.361001   \n",
      "1                 0.0           233.0     0.618399           0.000000   \n",
      "2               414.0           147.0     0.633416           0.344140   \n",
      "3                 0.0           226.0     0.500000           0.000000   \n",
      "4                 0.0           116.0     0.500000           0.000000   \n",
      "5               370.0           321.0     0.600242           0.224107   \n",
      "6               879.0             0.0     0.542816           0.637881   \n",
      "7              2072.0             0.0     0.500000           0.724476   \n",
      "8              1695.0             0.0     0.500000           0.612355   \n",
      "9              1178.0             0.0     0.500000           0.732587   \n",
      "\n",
      "   weekend_ratio  \n",
      "0       0.134387  \n",
      "1       0.198467  \n",
      "2       0.122195  \n",
      "3       0.243534  \n",
      "4       0.246809  \n",
      "5       0.194428  \n",
      "6       0.000000  \n",
      "7       0.000000  \n",
      "8       0.000000  \n",
      "9       0.000000  \n"
     ]
    }
   ],
   "source": [
    "table_preview = con.execute(\"\"\"\n",
    "SELECT * FROM logon_user LIMIT 10 \n",
    "\"\"\").df()\n",
    "\n",
    "print(table_preview)"
   ]
  },
  {
   "cell_type": "markdown",
   "id": "0f487e2c-61be-45a9-be06-e8fb57d5b36e",
   "metadata": {},
   "source": [
    "#### Aggregate http table grouped by user"
   ]
  },
  {
   "cell_type": "code",
   "execution_count": 34,
   "id": "612364bb-b0fe-48dc-8ab9-41e0a46af4a1",
   "metadata": {
    "collapsed": true,
    "jupyter": {
     "outputs_hidden": true,
     "source_hidden": true
    }
   },
   "outputs": [
    {
     "data": {
      "application/vnd.jupyter.widget-view+json": {
       "model_id": "41d11009a7ee4572bc96d9fec95f56d7",
       "version_major": 2,
       "version_minor": 0
      },
      "text/plain": [
       "FloatProgress(value=0.0, layout=Layout(width='auto'), style=ProgressStyle(bar_color='black'))"
      ]
     },
     "metadata": {},
     "output_type": "display_data"
    },
    {
     "name": "stdout",
     "output_type": "stream",
     "text": [
      "   Count\n",
      "0   1000\n"
     ]
    }
   ],
   "source": [
    "res = con.execute(\n",
    "    \"\"\"\n",
    "   CREATE TABLE http_user AS\n",
    "    SELECT\n",
    "        user,\n",
    "        COUNT(*) AS total_http_events,\n",
    "        COUNT(DISTINCT pc) AS unique_pcs_used,\n",
    "        COUNT(DISTINCT url) AS unique_urls_visited,\n",
    "    \n",
    "        -- Time-based features\n",
    "        SUM(\n",
    "            CASE\n",
    "                WHEN CAST(strptime(date, '%m/%d/%Y %H:%M:%S') AS TIMESTAMP) IS NOT NULL\n",
    "                     AND strftime('%H', strptime(date, '%m/%d/%Y %H:%M:%S')) NOT BETWEEN '08' AND '18'\n",
    "                THEN 1 ELSE 0\n",
    "            END\n",
    "        ) AS after_hours_http,\n",
    "    \n",
    "        SUM(\n",
    "            CASE\n",
    "                WHEN CAST(strptime(date, '%m/%d/%Y %H:%M:%S') AS TIMESTAMP) IS NOT NULL\n",
    "                     AND strftime('%w', strptime(date, '%m/%d/%Y %H:%M:%S')) IN ('0','6')\n",
    "                THEN 1 ELSE 0\n",
    "            END\n",
    "        ) AS weekend_http,\n",
    "    \n",
    "        -- Ratios (normalize)\n",
    "        CAST(SUM(\n",
    "            CASE\n",
    "                WHEN CAST(strptime(date, '%m/%d/%Y %H:%M:%S') AS TIMESTAMP) IS NOT NULL\n",
    "                     AND strftime('%H', strptime(date, '%m/%d/%Y %H:%M:%S')) NOT BETWEEN '08' AND '18'\n",
    "                THEN 1 ELSE 0 END\n",
    "        ) AS FLOAT) / NULLIF(COUNT(*),0) AS after_hours_ratio,\n",
    "    \n",
    "        CAST(SUM(\n",
    "            CASE\n",
    "                WHEN CAST(strptime(date, '%m/%d/%Y %H:%M:%S') AS TIMESTAMP) IS NOT NULL\n",
    "                     AND strftime('%w', strptime(date, '%m/%d/%Y %H:%M:%S')) IN ('0','6')\n",
    "                THEN 1 ELSE 0 END\n",
    "        ) AS FLOAT) / NULLIF(COUNT(*),0) AS weekend_ratio\n",
    "    \n",
    "    FROM http\n",
    "    GROUP BY user;\n",
    "\n",
    "    \"\"\" \n",
    ").df()\n",
    "\n",
    "print(res)"
   ]
  },
  {
   "cell_type": "code",
   "execution_count": 35,
   "id": "609b936e-295e-462f-b943-356d4bb6be60",
   "metadata": {
    "collapsed": true,
    "jupyter": {
     "outputs_hidden": true,
     "source_hidden": true
    }
   },
   "outputs": [
    {
     "name": "stdout",
     "output_type": "stream",
     "text": [
      "      user  total_http_events  unique_pcs_used  unique_urls_visited  \\\n",
      "0  GMF0738              56052                1                  182   \n",
      "1  XHW0498              31690                1                  264   \n",
      "2  MAD0753              56052                1                  327   \n",
      "3  EPW0434              32870                1                  388   \n",
      "4  JAD0609              56052                1                  190   \n",
      "5  DAG0558              32870                1                  304   \n",
      "6  AKR0057              26463                1                  217   \n",
      "7  HWY0038              12312                1                  218   \n",
      "8  KSP0966               3460                1                  166   \n",
      "9  JAV0361              39377                1                  245   \n",
      "\n",
      "   after_hours_http  weekend_http  after_hours_ratio  weekend_ratio  \n",
      "0             453.0           0.0           0.008082            0.0  \n",
      "1               0.0           0.0           0.000000            0.0  \n",
      "2             511.0           0.0           0.009117            0.0  \n",
      "3             361.0           0.0           0.010983            0.0  \n",
      "4             502.0           0.0           0.008956            0.0  \n",
      "5               0.0           0.0           0.000000            0.0  \n",
      "6             508.0           0.0           0.019197            0.0  \n",
      "7            1191.0           0.0           0.096735            0.0  \n",
      "8             470.0           0.0           0.135838            0.0  \n",
      "9               0.0           0.0           0.000000            0.0  \n"
     ]
    }
   ],
   "source": [
    "table_preview = con.execute(\"\"\"\n",
    "SELECT * FROM http_user LIMIT 10 \n",
    "\"\"\").df()\n",
    "\n",
    "print(table_preview)"
   ]
  },
  {
   "cell_type": "markdown",
   "id": "99695e76-0def-4c5f-9d1d-16eae4586c12",
   "metadata": {},
   "source": [
    "#### Aggregate email table features grouped by user"
   ]
  },
  {
   "cell_type": "code",
   "execution_count": 37,
   "id": "bb2475a0-ea36-43c4-8360-17500f7c88ab",
   "metadata": {
    "collapsed": true,
    "jupyter": {
     "outputs_hidden": true,
     "source_hidden": true
    }
   },
   "outputs": [
    {
     "name": "stdout",
     "output_type": "stream",
     "text": [
      "   Count\n",
      "0   1000\n"
     ]
    }
   ],
   "source": [
    "res = con.execute(\n",
    "    \"\"\"\n",
    "  CREATE TABLE email_user AS\n",
    "    SELECT\n",
    "        user,\n",
    "        COUNT(*) AS total_emails,                                   -- total email events\n",
    "        COUNT(DISTINCT pc) AS unique_pcs_used,                      -- distinct machines used for email\n",
    "        COUNT(DISTINCT \"to\") AS unique_recipients,                  -- number of unique recipients\n",
    "        COUNT(DISTINCT cc) AS unique_cc,                            -- unique cc addresses\n",
    "        COUNT(DISTINCT bcc) AS unique_bcc,                          -- unique bcc addresses\n",
    "        COUNT(DISTINCT \"from\") AS unique_senders,                   -- in case multiple accounts used\n",
    "        SUM(size) AS total_email_size,                              -- total size of emails sent\n",
    "        AVG(size) AS avg_email_size,                                -- average size\n",
    "        SUM(attachments) AS total_attachments,                      -- total attachments\n",
    "        AVG(attachments) AS avg_attachments,                        -- average attachments per email\n",
    "        SUM(CASE WHEN attachments > 0 THEN 1 ELSE 0 END) AS emails_with_attachments -- how many had attachments\n",
    "    FROM email\n",
    "    GROUP BY user;\n",
    "\n",
    "\n",
    "    \"\"\" \n",
    ").df()\n",
    "\n",
    "print(res)"
   ]
  },
  {
   "cell_type": "code",
   "execution_count": 38,
   "id": "e36cc110-8a1f-4421-870d-1cc8fa49a850",
   "metadata": {
    "collapsed": true,
    "jupyter": {
     "outputs_hidden": true,
     "source_hidden": true
    }
   },
   "outputs": [
    {
     "name": "stdout",
     "output_type": "stream",
     "text": [
      "      user  total_emails  unique_pcs_used  unique_recipients  unique_cc  \\\n",
      "0  AJR0319          6434                1               2778        746   \n",
      "1  AMW0392          3956                1               1552        422   \n",
      "2  AHC0142          3382                1                857        301   \n",
      "3  SMH0291           467                1                290        111   \n",
      "4  DRR0242          3836                1               1479        422   \n",
      "5  LBH0942          3918                1               1551        374   \n",
      "6  BSS0369          2300                1               1048        294   \n",
      "7  BVC0790          3768                1               1740        499   \n",
      "8  IIL0513          1329                1                694        186   \n",
      "9  MCF0600           239                1                163         62   \n",
      "\n",
      "   unique_bcc  unique_senders  total_email_size  avg_email_size  \\\n",
      "0           2               2       194943753.0    30298.997979   \n",
      "1           2               2       118249034.0    29891.060162   \n",
      "2           2               2       102101629.0    30189.718805   \n",
      "3           2               2        14182454.0    30369.280514   \n",
      "4           2               2       113756569.0    29654.997132   \n",
      "5           0               2       117687945.0    30037.760337   \n",
      "6           2               2        69875284.0    30380.558261   \n",
      "7           2               2       111749433.0    29657.492834   \n",
      "8           0              60        39961279.0    30068.682468   \n",
      "9           0               2         7130837.0    29836.138075   \n",
      "\n",
      "   total_attachments  avg_attachments  emails_with_attachments  \n",
      "0             3286.0         0.510724                   1949.0  \n",
      "1              706.0         0.178463                    398.0  \n",
      "2             1844.0         0.545240                   1002.0  \n",
      "3              111.0         0.237687                     57.0  \n",
      "4              728.0         0.189781                    405.0  \n",
      "5              793.0         0.202399                    411.0  \n",
      "6              491.0         0.213478                    216.0  \n",
      "7             2055.0         0.545382                   1139.0  \n",
      "8              232.0         0.174567                    133.0  \n",
      "9               48.0         0.200837                     22.0  \n"
     ]
    }
   ],
   "source": [
    "table_preview = con.execute(\"\"\"\n",
    "SELECT * FROM email_user LIMIT 10 \n",
    "\"\"\").df()\n",
    "\n",
    "print(table_preview)"
   ]
  },
  {
   "cell_type": "markdown",
   "id": "487bfa3c-6db7-4d59-af05-cc9115e99444",
   "metadata": {},
   "source": [
    "#### Aggregate file table features group by user"
   ]
  },
  {
   "cell_type": "code",
   "execution_count": 43,
   "id": "72b4251b-513a-44e6-b37a-79bb07e6376e",
   "metadata": {
    "collapsed": true,
    "jupyter": {
     "outputs_hidden": true,
     "source_hidden": true
    }
   },
   "outputs": [
    {
     "name": "stdout",
     "output_type": "stream",
     "text": [
      "   Count\n",
      "0    264\n"
     ]
    }
   ],
   "source": [
    "res = con.execute(\n",
    "    \"\"\"\n",
    "CREATE TABLE file_user AS\n",
    "SELECT\n",
    "    user,\n",
    "    COUNT(*) AS total_file_events,                   -- total file activities\n",
    "    COUNT(DISTINCT pc) AS unique_pcs_used,           -- distinct machines used\n",
    "    COUNT(DISTINCT filename) AS unique_files,        -- unique files accessed\n",
    "    COUNT(DISTINCT content) AS unique_file_types,    -- unique file categories / content keywords\n",
    "\n",
    "    -- File type counts\n",
    "    SUM(CASE WHEN filename LIKE '%.exe'  THEN 1 ELSE 0 END) AS exe_files_accessed,\n",
    "    SUM(CASE WHEN filename LIKE '%.zip'  THEN 1 ELSE 0 END) AS zip_files_accessed,\n",
    "    SUM(CASE WHEN filename LIKE '%.pdf'  THEN 1 ELSE 0 END) AS pdf_files_accessed,\n",
    "    SUM(CASE WHEN filename LIKE '%.docx' THEN 1 ELSE 0 END) AS docx_files_accessed,\n",
    "    SUM(CASE WHEN filename LIKE '%.xlsx' THEN 1 ELSE 0 END) AS xlsx_files_accessed,\n",
    "\n",
    "    -- Time-based features\n",
    "    SUM(\n",
    "        CASE\n",
    "            WHEN CAST(strptime(date, '%m/%d/%Y %H:%M:%S') AS TIMESTAMP) IS NOT NULL\n",
    "                 AND strftime('%H', strptime(date, '%m/%d/%Y %H:%M:%S')) NOT BETWEEN '08' AND '18'\n",
    "            THEN 1 ELSE 0\n",
    "        END\n",
    "    ) AS after_hours_file_events,\n",
    "\n",
    "    SUM(\n",
    "        CASE\n",
    "            WHEN CAST(strptime(date, '%m/%d/%Y %H:%M:%S') AS TIMESTAMP) IS NOT NULL\n",
    "                 AND strftime('%w', strptime(date, '%m/%d/%Y %H:%M:%S')) IN ('0','6')\n",
    "            THEN 1 ELSE 0\n",
    "        END\n",
    "    ) AS weekend_file_events,\n",
    "\n",
    "    -- Ratios for time-based behavior\n",
    "    CAST(SUM(\n",
    "        CASE\n",
    "            WHEN CAST(strptime(date, '%m/%d/%Y %H:%M:%S') AS TIMESTAMP) IS NOT NULL\n",
    "                 AND strftime('%H', strptime(date, '%m/%d/%Y %H:%M:%S')) NOT BETWEEN '08' AND '18'\n",
    "            THEN 1 ELSE 0\n",
    "        END\n",
    "    ) AS FLOAT) / NULLIF(COUNT(*),0) AS after_hours_ratio,\n",
    "\n",
    "    CAST(SUM(\n",
    "        CASE\n",
    "            WHEN CAST(strptime(date, '%m/%d/%Y %H:%M:%S') AS TIMESTAMP) IS NOT NULL\n",
    "                 AND strftime('%w', strptime(date, '%m/%d/%Y %H:%M:%S')) IN ('0','6')\n",
    "            THEN 1 ELSE 0\n",
    "        END\n",
    "    ) AS FLOAT) / NULLIF(COUNT(*),0) AS weekend_ratio,\n",
    "\n",
    "    -- File type ratios\n",
    "    CAST(SUM(CASE WHEN filename LIKE '%.exe'  THEN 1 ELSE 0 END) AS FLOAT) / NULLIF(COUNT(*),0) AS exe_ratio,\n",
    "    CAST(SUM(CASE WHEN filename LIKE '%.zip'  THEN 1 ELSE 0 END) AS FLOAT) / NULLIF(COUNT(*),0) AS zip_ratio,\n",
    "    CAST(SUM(CASE WHEN filename LIKE '%.pdf'  THEN 1 ELSE 0 END) AS FLOAT) / NULLIF(COUNT(*),0) AS pdf_ratio,\n",
    "    CAST(SUM(CASE WHEN filename LIKE '%.docx' THEN 1 ELSE 0 END) AS FLOAT) / NULLIF(COUNT(*),0) AS docx_ratio,\n",
    "    CAST(SUM(CASE WHEN filename LIKE '%.xlsx' THEN 1 ELSE 0 END) AS FLOAT) / NULLIF(COUNT(*),0) AS xlsx_ratio\n",
    "\n",
    "FROM file\n",
    "GROUP BY user;\n",
    "\n",
    "    \"\"\" \n",
    ").df()\n",
    "\n",
    "print(res)"
   ]
  },
  {
   "cell_type": "code",
   "execution_count": 44,
   "id": "6d5379d9-e250-4b57-8846-81f0e53c01e9",
   "metadata": {
    "collapsed": true,
    "jupyter": {
     "outputs_hidden": true,
     "source_hidden": true
    }
   },
   "outputs": [
    {
     "name": "stdout",
     "output_type": "stream",
     "text": [
      "      user  total_file_events  unique_pcs_used  unique_files  \\\n",
      "0  DAL0673                352                1           352   \n",
      "1  CLB0774               7246                1          7246   \n",
      "2  BDI0533               2458                1          2458   \n",
      "3  SAA0999               8468                1          8468   \n",
      "4  MLM0950               2752                1          2752   \n",
      "5  BJM0111               7841                1          7841   \n",
      "6  HSB0196              11627                1         11627   \n",
      "7  ICH0294               2509                1          2509   \n",
      "8  WXH0872                826                1           826   \n",
      "9  HWW0436               1245                1          1245   \n",
      "\n",
      "   unique_file_types  exe_files_accessed  zip_files_accessed  \\\n",
      "0                335                 1.0                21.0   \n",
      "1               6871                46.0               368.0   \n",
      "2               2341                14.0               124.0   \n",
      "3               8041                66.0               453.0   \n",
      "4               2610                20.0               134.0   \n",
      "5               7443                55.0               401.0   \n",
      "6              11039                76.0               585.0   \n",
      "7               2381                21.0               123.0   \n",
      "8                775                 4.0                35.0   \n",
      "9               1190                10.0                52.0   \n",
      "\n",
      "   pdf_files_accessed  docx_files_accessed  xlsx_files_accessed  \\\n",
      "0                67.0                  0.0                  0.0   \n",
      "1              1398.0                  0.0                  0.0   \n",
      "2               483.0                  0.0                  0.0   \n",
      "3              1714.0                  0.0                  0.0   \n",
      "4               503.0                  0.0                  0.0   \n",
      "5              1586.0                  0.0                  0.0   \n",
      "6              2292.0                  0.0                  0.0   \n",
      "7               462.0                  0.0                  0.0   \n",
      "8               165.0                  0.0                  0.0   \n",
      "9               259.0                  0.0                  0.0   \n",
      "\n",
      "   after_hours_file_events  weekend_file_events  after_hours_ratio  \\\n",
      "0                      6.0                  0.0           0.017045   \n",
      "1                    144.0                  0.0           0.019873   \n",
      "2                      0.0                522.0           0.000000   \n",
      "3                    142.0                  0.0           0.016769   \n",
      "4                    215.0                502.0           0.078125   \n",
      "5                     41.0                343.0           0.005229   \n",
      "6                     13.0               2964.0           0.001118   \n",
      "7                      0.0                  0.0           0.000000   \n",
      "8                     10.0                  0.0           0.012107   \n",
      "9                     10.0                  0.0           0.008032   \n",
      "\n",
      "   weekend_ratio  exe_ratio  zip_ratio  pdf_ratio  docx_ratio  xlsx_ratio  \n",
      "0       0.000000   0.002841   0.059659   0.190341         0.0         0.0  \n",
      "1       0.000000   0.006348   0.050787   0.192934         0.0         0.0  \n",
      "2       0.212368   0.005696   0.050448   0.196501         0.0         0.0  \n",
      "3       0.000000   0.007794   0.053496   0.202409         0.0         0.0  \n",
      "4       0.182413   0.007267   0.048692   0.182776         0.0         0.0  \n",
      "5       0.043744   0.007014   0.051141   0.202270         0.0         0.0  \n",
      "6       0.254924   0.006537   0.050314   0.197127         0.0         0.0  \n",
      "7       0.000000   0.008370   0.049024   0.184137         0.0         0.0  \n",
      "8       0.000000   0.004843   0.042373   0.199758         0.0         0.0  \n",
      "9       0.000000   0.008032   0.041767   0.208032         0.0         0.0  \n"
     ]
    }
   ],
   "source": [
    "table_preview = con.execute(\"\"\"\n",
    "SELECT * FROM file_user LIMIT 10 \n",
    "\"\"\").df()\n",
    "\n",
    "print(table_preview)"
   ]
  },
  {
   "cell_type": "markdown",
   "id": "97367655-f565-4902-92cf-d3d93ef538e5",
   "metadata": {},
   "source": [
    "#### Modify the structure of psychometric table (doesn't need any aggregation as it is already in the req format) "
   ]
  },
  {
   "cell_type": "code",
   "execution_count": 47,
   "id": "b2f000cd-e9f7-4d4e-b53c-089445b0b89e",
   "metadata": {
    "collapsed": true,
    "jupyter": {
     "outputs_hidden": true,
     "source_hidden": true
    }
   },
   "outputs": [
    {
     "name": "stdout",
     "output_type": "stream",
     "text": [
      "   Count\n",
      "0   1000\n"
     ]
    }
   ],
   "source": [
    "res = con.execute(\n",
    "    \"\"\"\n",
    "    CREATE TABLE psychometric_user AS\n",
    "    SELECT\n",
    "        user_id AS user,\n",
    "        employee_name,\n",
    "        O AS openness,\n",
    "        C AS conscientiousness,\n",
    "        E AS extraversion,\n",
    "        A AS agreeableness,\n",
    "        N AS neuroticism\n",
    "    FROM psychometric;\n",
    "\n",
    "    \"\"\" \n",
    ").df()\n",
    "\n",
    "print(res)"
   ]
  },
  {
   "cell_type": "code",
   "execution_count": 48,
   "id": "3c719405-06f7-408e-8118-3e827521bbf4",
   "metadata": {
    "collapsed": true,
    "jupyter": {
     "outputs_hidden": true,
     "source_hidden": true
    }
   },
   "outputs": [
    {
     "name": "stdout",
     "output_type": "stream",
     "text": [
      "      user            employee_name  openness  conscientiousness  \\\n",
      "0  CEL0561         Calvin Edan Love        40                 39   \n",
      "1  CRD0624  Christine Reagan Deleon        26                 22   \n",
      "2  JFC0557    Jade Felicia Caldwell        22                 16   \n",
      "3  ASD0577   Aquila Stewart Dejesus        40                 48   \n",
      "4  MAR0955        Micah Abdul Rojas        36                 44   \n",
      "5  GRM0868  Gail Rhiannon Mcconnell        21                 25   \n",
      "6  AAL0706         April Alika Levy        37                 14   \n",
      "7  RVC0232      Rama Vielka Clayton        34                 20   \n",
      "8  TCD0009       Tasha Casey Dalton        44                 28   \n",
      "9  ASM0575     Aurora Sarah Manning        42                 25   \n",
      "\n",
      "   extraversion  agreeableness  neuroticism  \n",
      "0            36             19           40  \n",
      "1            17             39           32  \n",
      "2            23             40           33  \n",
      "3            36             14           37  \n",
      "4            23             44           25  \n",
      "5            20             13           28  \n",
      "6            28             13           25  \n",
      "7            47             38           25  \n",
      "8            44             38           23  \n",
      "9            21             45           30  \n"
     ]
    }
   ],
   "source": [
    "table_preview = con.execute(\"\"\"\n",
    "SELECT * FROM psychometric_user LIMIT 10 \n",
    "\"\"\").df()\n",
    "\n",
    "print(table_preview)"
   ]
  },
  {
   "cell_type": "markdown",
   "id": "17521589-93b3-4d07-b356-271af92de13d",
   "metadata": {},
   "source": [
    "#### Aggregate all the 18 monnths of LDAP tables into one unified LDAP table"
   ]
  },
  {
   "cell_type": "code",
   "execution_count": 63,
   "id": "8700a747-1975-4bbe-b21f-9e2bb68f876e",
   "metadata": {
    "collapsed": true,
    "jupyter": {
     "outputs_hidden": true,
     "source_hidden": true
    }
   },
   "outputs": [
    {
     "name": "stdout",
     "output_type": "stream",
     "text": [
      "   Count\n",
      "0  16743\n"
     ]
    }
   ],
   "source": [
    "res = con.execute(\n",
    "    \"\"\"\n",
    "CREATE TABLE ldap_all AS\n",
    "SELECT *, '2009-12' AS month FROM \"LDAP_2009-12\"\n",
    "UNION ALL\n",
    "SELECT *, '2010-01' AS month FROM \"LDAP_2010-01\"\n",
    "UNION ALL\n",
    "SELECT *, '2010-02' AS month FROM \"LDAP_2010-02\"\n",
    "UNION ALL\n",
    "SELECT *, '2010-03' AS month FROM \"LDAP_2010-03\"\n",
    "UNION ALL\n",
    "SELECT *, '2010-04' AS month FROM \"LDAP_2010-04\"\n",
    "UNION ALL\n",
    "SELECT *, '2010-05' AS month FROM \"LDAP_2010-05\"\n",
    "UNION ALL\n",
    "SELECT *, '2010-06' AS month FROM \"LDAP_2010-06\"\n",
    "UNION ALL\n",
    "SELECT *, '2010-07' AS month FROM \"LDAP_2010-07\"\n",
    "UNION ALL\n",
    "SELECT *, '2010-08' AS month FROM \"LDAP_2010-08\"\n",
    "UNION ALL\n",
    "SELECT *, '2010-09' AS month FROM \"LDAP_2010-09\"\n",
    "UNION ALL\n",
    "SELECT *, '2010-10' AS month FROM \"LDAP_2010-10\"\n",
    "UNION ALL\n",
    "SELECT *, '2010-11' AS month FROM \"LDAP_2010-11\"\n",
    "UNION ALL\n",
    "SELECT *, '2010-12' AS month FROM \"LDAP_2010-12\"\n",
    "UNION ALL\n",
    "SELECT *, '2011-01' AS month FROM \"LDAP_2011-01\"\n",
    "UNION ALL\n",
    "SELECT *, '2011-02' AS month FROM \"LDAP_2011-02\"\n",
    "UNION ALL\n",
    "SELECT *, '2011-03' AS month FROM \"LDAP_2011-03\"\n",
    "UNION ALL\n",
    "SELECT *, '2011-04' AS month FROM \"LDAP_2011-04\"\n",
    "UNION ALL\n",
    "SELECT *, '2011-05' AS month FROM \"LDAP_2011-05\";\n",
    "\n",
    "\n",
    "    \"\"\" \n",
    ").df()\n",
    "\n",
    "print(res)"
   ]
  },
  {
   "cell_type": "code",
   "execution_count": 64,
   "id": "1750c213-39f0-49c7-874f-3b5564e0cd66",
   "metadata": {
    "collapsed": true,
    "jupyter": {
     "outputs_hidden": true,
     "source_hidden": true
    }
   },
   "outputs": [
    {
     "name": "stdout",
     "output_type": "stream",
     "text": [
      "             employee_name  user_id                             email  \\\n",
      "0         Calvin Edan Love  CEL0561         Calvin.Edan.Love@dtaa.com   \n",
      "1  Christine Reagan Deleon  CRD0624  Christine.Reagan.Deleon@dtaa.com   \n",
      "2    Jade Felicia Caldwell  JFC0557    Jade.Felicia.Caldwell@dtaa.com   \n",
      "3   Aquila Stewart Dejesus  ASD0577   Aquila.Stewart.Dejesus@dtaa.com   \n",
      "4        Micah Abdul Rojas  MAR0955        Micah.Abdul.Rojas@dtaa.com   \n",
      "5  Gail Rhiannon Mcconnell  GRM0868  Gail.Rhiannon.Mcconnell@dtaa.com   \n",
      "6         April Alika Levy  AAL0706         April.Alika.Levy@dtaa.com   \n",
      "7      Rama Vielka Clayton  RVC0232      Rama.Vielka.Clayton@dtaa.com   \n",
      "8       Tasha Casey Dalton  TCD0009       Tasha.Casey.Dalton@dtaa.com   \n",
      "9     Aurora Sarah Manning  ASM0575     Aurora.Sarah.Manning@dtaa.com   \n",
      "\n",
      "                      role  business_unit             functional_unit  \\\n",
      "0       ComputerProgrammer              1  2 - ResearchAndEngineering   \n",
      "1                 Salesman              1       5 - SalesAndMarketing   \n",
      "2         SoftwareEngineer              1  2 - ResearchAndEngineering   \n",
      "3     ProductionLineWorker              1           3 - Manufacturing   \n",
      "4     ProductionLineWorker              1           3 - Manufacturing   \n",
      "5                 Salesman              1       5 - SalesAndMarketing   \n",
      "6     ProductionLineWorker              1           3 - Manufacturing   \n",
      "7            Mathematician              1  2 - ResearchAndEngineering   \n",
      "8  AdministrativeAssistant              1           1 - Adminstration   \n",
      "9     ProductionLineWorker              1           3 - Manufacturing   \n",
      "\n",
      "               department               team                  supervisor  \\\n",
      "0  2 - SoftwareManagement       3 - Software  Stephanie Briar Harrington   \n",
      "1               2 - Sales  3 - RegionalSales           Winter Veda Burks   \n",
      "2  2 - SoftwareManagement       3 - Software  Stephanie Briar Harrington   \n",
      "3            3 - Assembly   3 - AssemblyDept   Whilemina Pandora England   \n",
      "4            3 - Assembly   6 - AssemblyDept         Sandra Beverly Diaz   \n",
      "5               2 - Sales  5 - RegionalSales         Hashim Damon Dudley   \n",
      "6            3 - Assembly   4 - AssemblyDept        Alan Benjamin Holder   \n",
      "7            1 - Research            1 - Lab     Jackson Linus Wilkerson   \n",
      "8                    None               None      Halla Cathleen Simmons   \n",
      "9            3 - Assembly   3 - AssemblyDept   Whilemina Pandora England   \n",
      "\n",
      "     month  \n",
      "0  2009-12  \n",
      "1  2009-12  \n",
      "2  2009-12  \n",
      "3  2009-12  \n",
      "4  2009-12  \n",
      "5  2009-12  \n",
      "6  2009-12  \n",
      "7  2009-12  \n",
      "8  2009-12  \n",
      "9  2009-12  \n"
     ]
    }
   ],
   "source": [
    "table_preview = con.execute(\"\"\"\n",
    "SELECT * FROM ldap_all LIMIT 10 \n",
    "\"\"\").df()\n",
    "\n",
    "print(table_preview)"
   ]
  },
  {
   "cell_type": "markdown",
   "id": "5b27021b-b891-401b-bd17-8b300fc98f5e",
   "metadata": {},
   "source": [
    "#### Aggregate ldap_all table features grouped by user "
   ]
  },
  {
   "cell_type": "code",
   "execution_count": 65,
   "id": "c0f712f5-a1aa-46db-8b75-653ae9911c3e",
   "metadata": {
    "collapsed": true,
    "jupyter": {
     "outputs_hidden": true,
     "source_hidden": true
    }
   },
   "outputs": [
    {
     "name": "stdout",
     "output_type": "stream",
     "text": [
      "   Count\n",
      "0   1000\n"
     ]
    }
   ],
   "source": [
    "res = con.execute(\n",
    "    \"\"\"\n",
    "    CREATE TABLE ldap_user AS\n",
    "    SELECT\n",
    "        user_id AS user,\n",
    "        MAX(employee_name) AS employee_name,\n",
    "    \n",
    "        -- Counts of distinct attributes over 18 months\n",
    "        COUNT(DISTINCT role) AS unique_roles,\n",
    "        COUNT(DISTINCT business_unit) AS unique_business_units,\n",
    "        COUNT(DISTINCT functional_unit) AS unique_functional_units,\n",
    "        COUNT(DISTINCT department) AS unique_departments,\n",
    "        COUNT(DISTINCT team) AS unique_teams,\n",
    "        COUNT(DISTINCT supervisor) AS unique_supervisors,\n",
    "    \n",
    "        -- Flags for any changes during 18 months\n",
    "        CASE WHEN COUNT(DISTINCT role) > 1 THEN 1 ELSE 0 END AS role_changed,\n",
    "        CASE WHEN COUNT(DISTINCT department) > 1 THEN 1 ELSE 0 END AS department_changed,\n",
    "        CASE WHEN COUNT(DISTINCT team) > 1 THEN 1 ELSE 0 END AS team_changed\n",
    "    \n",
    "    FROM ldap_all\n",
    "    GROUP BY user_id;\n",
    "    \n",
    "\n",
    "    \"\"\" \n",
    ").df()\n",
    "\n",
    "print(res)"
   ]
  },
  {
   "cell_type": "code",
   "execution_count": 73,
   "id": "31cb0271-d608-4612-8c80-b9f4b9a797b5",
   "metadata": {
    "collapsed": true,
    "jupyter": {
     "outputs_hidden": true,
     "source_hidden": true
    }
   },
   "outputs": [
    {
     "name": "stdout",
     "output_type": "stream",
     "text": [
      "      user           employee_name  unique_roles  unique_business_units  \\\n",
      "0  ASD0577  Aquila Stewart Dejesus             1                      1   \n",
      "1  MDM0625  Melyssa Deirdre Morgan             1                      1   \n",
      "2  BER0314  Bianca Elizabeth Roach             1                      1   \n",
      "3  YCE0983   Yardley Cairo Elliott             1                      1   \n",
      "4  GHL0460    Geoffrey Harlan Lara             1                      1   \n",
      "5  OQH0183      Olivia Quynn Hardy             1                      1   \n",
      "6  KSP0357     Kennedy Shad Parker             1                      1   \n",
      "7  FEB0306    Flynn Edward Brennan             1                      1   \n",
      "8  NKH0807   Nicolas Kadeem Hayden             1                      1   \n",
      "9  LDM0587      Lila Dana Mcintyre             1                      1   \n",
      "\n",
      "   unique_functional_units  unique_departments  unique_teams  \\\n",
      "0                        1                   1             1   \n",
      "1                        1                   1             1   \n",
      "2                        1                   1             1   \n",
      "3                        1                   1             0   \n",
      "4                        1                   1             1   \n",
      "5                        1                   1             1   \n",
      "6                        1                   1             1   \n",
      "7                        1                   1             1   \n",
      "8                        1                   1             1   \n",
      "9                        1                   1             1   \n",
      "\n",
      "   unique_supervisors  role_changed  department_changed  team_changed  \n",
      "0                   1             0                   0             0  \n",
      "1                   1             0                   0             0  \n",
      "2                   1             0                   0             0  \n",
      "3                   1             0                   0             0  \n",
      "4                   1             0                   0             0  \n",
      "5                   1             0                   0             0  \n",
      "6                   1             0                   0             0  \n",
      "7                   1             0                   0             0  \n",
      "8                   1             0                   0             0  \n",
      "9                   1             0                   0             0  \n"
     ]
    }
   ],
   "source": [
    "table_preview = con.execute(\"\"\"\n",
    "SELECT * FROM ldap_user LIMIT 10 \n",
    "\"\"\").df()\n",
    "\n",
    "print(table_preview)"
   ]
  },
  {
   "cell_type": "markdown",
   "id": "91cd82e8-c72a-45b2-a20a-8d44a68723f3",
   "metadata": {},
   "source": [
    "#### Merging all the aggregated tables into one master table for ML model training"
   ]
  },
  {
   "cell_type": "code",
   "execution_count": 85,
   "id": "78fde1bf-3392-4483-a878-2470aa491ec6",
   "metadata": {
    "jupyter": {
     "source_hidden": true
    }
   },
   "outputs": [
    {
     "name": "stdout",
     "output_type": "stream",
     "text": [
      "   Count\n",
      "0   1000\n"
     ]
    }
   ],
   "source": [
    "res = con.execute(\n",
    "    \"\"\"\n",
    "CREATE TABLE user_features AS\n",
    "SELECT\n",
    "    l.user AS user_id,\n",
    "    l.total_logon_events,\n",
    "    l.logon_count,\n",
    "    l.logoff_count,\n",
    "    l.unique_pcs_used AS logon_unique_pcs,\n",
    "    l.after_hours_logons,\n",
    "    l.weekend_logons,\n",
    "    l.logon_ratio,\n",
    "    l.after_hours_ratio AS logon_after_hours_ratio,\n",
    "    l.weekend_ratio AS logon_weekend_ratio,\n",
    "\n",
    "    d.total_device_events,\n",
    "    d.connect_count,\n",
    "    d.disconnect_count,\n",
    "    d.unique_pcs_used AS device_unique_pcs,\n",
    "    d.after_hours_connects,\n",
    "    d.weekend_connects,\n",
    "    d.connect_ratio,\n",
    "    d.after_hours_ratio AS device_after_hours_ratio,\n",
    "    d.weekend_ratio AS device_weekend_ratio,\n",
    "\n",
    "    h.total_http_events,\n",
    "    h.unique_pcs_used AS http_unique_pcs,\n",
    "    h.unique_urls_visited,\n",
    "    h.after_hours_http,\n",
    "    h.weekend_http,\n",
    "    h.after_hours_ratio AS http_after_hours_ratio,\n",
    "    h.weekend_ratio AS http_weekend_ratio,\n",
    "\n",
    "    e.total_emails,\n",
    "    e.unique_pcs_used AS email_unique_pcs,\n",
    "    e.unique_recipients,\n",
    "    e.unique_cc,\n",
    "    e.unique_bcc,\n",
    "    e.unique_senders,\n",
    "    e.total_email_size,\n",
    "    e.avg_email_size,\n",
    "    e.total_attachments,\n",
    "    e.avg_attachments,\n",
    "    e.emails_with_attachments,\n",
    "\n",
    "    f.total_file_events,\n",
    "    f.unique_pcs_used AS file_unique_pcs,\n",
    "    f.unique_files,\n",
    "    f.unique_file_types,\n",
    "    f.exe_files_accessed,\n",
    "    f.zip_files_accessed,\n",
    "    f.pdf_files_accessed,\n",
    "    f.docx_files_accessed,\n",
    "    f.xlsx_files_accessed,\n",
    "    f.after_hours_file_events,\n",
    "    f.weekend_file_events,\n",
    "    f.after_hours_ratio AS file_after_hours_ratio,\n",
    "    f.weekend_ratio AS file_weekend_ratio,\n",
    "    f.exe_ratio,\n",
    "    f.zip_ratio,\n",
    "    f.pdf_ratio,\n",
    "    f.docx_ratio,\n",
    "    f.xlsx_ratio,\n",
    "\n",
    "    p.employee_name AS psychometric_employee_name,\n",
    "    p.openness,\n",
    "    p.conscientiousness,\n",
    "    p.extraversion,\n",
    "    p.agreeableness,\n",
    "    p.neuroticism,\n",
    "\n",
    "    ldap.employee_name AS ldap_employee_name,\n",
    "    ldap.unique_roles,\n",
    "    ldap.unique_business_units,\n",
    "    ldap.unique_functional_units,\n",
    "    ldap.unique_departments,\n",
    "    ldap.unique_teams,\n",
    "    ldap.unique_supervisors,\n",
    "    ldap.role_changed,\n",
    "    ldap.department_changed,\n",
    "    ldap.team_changed\n",
    "\n",
    "FROM logon_user l\n",
    "LEFT JOIN device_user d ON l.user = d.user\n",
    "LEFT JOIN http_user h ON l.user = h.user\n",
    "LEFT JOIN email_user e ON l.user = e.user\n",
    "LEFT JOIN file_user f ON l.user = f.user\n",
    "LEFT JOIN psychometric_user p ON l.user = p.user\n",
    "LEFT JOIN ldap_user ldap ON l.user = ldap.user;\n",
    "\n",
    "\n",
    "    \"\"\" \n",
    ").df()\n",
    "\n",
    "print(res)"
   ]
  },
  {
   "cell_type": "code",
   "execution_count": 90,
   "id": "c09739eb-979e-483a-a518-2799d20979eb",
   "metadata": {
    "collapsed": true,
    "jupyter": {
     "outputs_hidden": true,
     "source_hidden": true
    },
    "scrolled": true
   },
   "outputs": [
    {
     "name": "stdout",
     "output_type": "stream",
     "text": [
      "Index(['user_id', 'total_logon_events', 'logon_count', 'logoff_count',\n",
      "       'logon_unique_pcs', 'after_hours_logons', 'weekend_logons',\n",
      "       'logon_ratio', 'logon_after_hours_ratio', 'logon_weekend_ratio',\n",
      "       'total_device_events', 'connect_count', 'disconnect_count',\n",
      "       'device_unique_pcs', 'after_hours_connects', 'weekend_connects',\n",
      "       'connect_ratio', 'device_after_hours_ratio', 'device_weekend_ratio',\n",
      "       'total_http_events', 'http_unique_pcs', 'unique_urls_visited',\n",
      "       'after_hours_http', 'weekend_http', 'http_after_hours_ratio',\n",
      "       'http_weekend_ratio', 'total_emails', 'email_unique_pcs',\n",
      "       'unique_recipients', 'unique_cc', 'unique_bcc', 'unique_senders',\n",
      "       'total_email_size', 'avg_email_size', 'total_attachments',\n",
      "       'avg_attachments', 'emails_with_attachments', 'total_file_events',\n",
      "       'file_unique_pcs', 'unique_files', 'unique_file_types',\n",
      "       'exe_files_accessed', 'zip_files_accessed', 'pdf_files_accessed',\n",
      "       'docx_files_accessed', 'xlsx_files_accessed', 'after_hours_file_events',\n",
      "       'weekend_file_events', 'file_after_hours_ratio', 'file_weekend_ratio',\n",
      "       'exe_ratio', 'zip_ratio', 'pdf_ratio', 'docx_ratio', 'xlsx_ratio',\n",
      "       'psychometric_employee_name', 'openness', 'conscientiousness',\n",
      "       'extraversion', 'agreeableness', 'neuroticism', 'ldap_employee_name',\n",
      "       'unique_roles', 'unique_business_units', 'unique_functional_units',\n",
      "       'unique_departments', 'unique_teams', 'unique_supervisors',\n",
      "       'role_changed', 'department_changed', 'team_changed'],\n",
      "      dtype='object')\n"
     ]
    }
   ],
   "source": [
    "table_preview = con.execute(\"\"\"\n",
    "SELECT * FROM user_features LIMIT 5\n",
    "\"\"\").df()\n",
    "\n",
    "print(table_preview.columns)"
   ]
  }
 ],
 "metadata": {
  "kernelspec": {
   "display_name": "Python (Insider Threat Detection Venv)",
   "language": "python",
   "name": "insider_threat_detection_venv_kernel"
  },
  "language_info": {
   "codemirror_mode": {
    "name": "ipython",
    "version": 3
   },
   "file_extension": ".py",
   "mimetype": "text/x-python",
   "name": "python",
   "nbconvert_exporter": "python",
   "pygments_lexer": "ipython3",
   "version": "3.12.4"
  }
 },
 "nbformat": 4,
 "nbformat_minor": 5
}
