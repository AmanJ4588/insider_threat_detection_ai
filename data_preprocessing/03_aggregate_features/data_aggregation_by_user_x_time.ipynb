{
 "cells": [
  {
   "cell_type": "markdown",
   "id": "d0fece6f-116e-4507-8e87-caec2878f027",
   "metadata": {
    "jp-MarkdownHeadingCollapsed": true
   },
   "source": [
    "#### Set up connection with duckdb and attach the original data to new database file that'll store the final training data"
   ]
  },
  {
   "cell_type": "code",
   "execution_count": null,
   "id": "13758afe-c15a-4f0a-a395-bea08057af82",
   "metadata": {},
   "outputs": [
    {
     "name": "stdout",
     "output_type": "stream",
     "text": [
      "Empty DataFrame\n",
      "Columns: [Success]\n",
      "Index: []\n"
     ]
    }
   ],
   "source": [
    "import duckdb \n",
    "og_data_source = \"dataset/cert42.duckdb\" \n",
    "con = duckdb.connect(\"dataset/supervised_dataset.duckdb\")\n",
    "res = con.execute(f\"ATTACH '{og_data_source}' AS raw_db (READ_ONLY);\").df()\n",
    "print(res)"
   ]
  },
  {
   "cell_type": "markdown",
   "id": "7e4d38db-9cd8-4fb1-a21d-6d81c0633f92",
   "metadata": {
    "jp-MarkdownHeadingCollapsed": true
   },
   "source": [
    "#### Will aggregate our data into 3 new tables \n",
    "* pyschometric table (Copy of the original psychometric table, no changes)\n",
    "* ldap_unified table (Will store all the consolidated information of all 18 months from the LDAP tables, not chronologically ordered)\n",
    "* logs_unified table (Will store all the consolidated logs, not chronologically ordered) "
   ]
  },
  {
   "cell_type": "markdown",
   "id": "2088fa86-6f64-494a-854d-2565f2fc8ffa",
   "metadata": {
    "jp-MarkdownHeadingCollapsed": true
   },
   "source": [
    "#### Constructing pyschometric table "
   ]
  },
  {
   "cell_type": "code",
   "execution_count": 29,
   "id": "4466a0b7-d7d8-401b-bec6-9a21ee7aaddf",
   "metadata": {},
   "outputs": [
    {
     "name": "stdout",
     "output_type": "stream",
     "text": [
      "   Count\n",
      "0   1000\n",
      "             employee_name  user_id   O   C   E   A   N\n",
      "0         Calvin Edan Love  CEL0561  40  39  36  19  40\n",
      "1  Christine Reagan Deleon  CRD0624  26  22  17  39  32\n",
      "2    Jade Felicia Caldwell  JFC0557  22  16  23  40  33\n",
      "3   Aquila Stewart Dejesus  ASD0577  40  48  36  14  37\n",
      "4        Micah Abdul Rojas  MAR0955  36  44  23  44  25\n"
     ]
    }
   ],
   "source": [
    "res = con.execute(\"\"\"\n",
    "CREATE TABLE psychometric AS\n",
    "SELECT\n",
    "    \"employee_name\", \n",
    "    \"user_id\",\n",
    "    \"O\",\n",
    "    \"C\",\n",
    "    \"E\",\n",
    "    \"A\",\n",
    "    \"N\"\n",
    "FROM raw_db.psychometric;\"\"\").df()\n",
    "\n",
    "print(res)\n",
    "\n",
    "preview = con.execute(\"\"\"\n",
    "SELECT * FROM psychometric LIMIT 5\n",
    "\"\"\").df() \n",
    "\n",
    "print(preview)"
   ]
  },
  {
   "cell_type": "markdown",
   "id": "e65c3ba0-c335-44ad-ba8f-801f6d4ea5b6",
   "metadata": {
    "jp-MarkdownHeadingCollapsed": true
   },
   "source": [
    "#### Constructing ldap_unified table  "
   ]
  },
  {
   "cell_type": "code",
   "execution_count": 31,
   "id": "55a61b44-f521-42d4-be36-3e9037a60194",
   "metadata": {},
   "outputs": [
    {
     "name": "stdout",
     "output_type": "stream",
     "text": [
      "   Count\n",
      "0  16743\n",
      "             employee_name  user_id                             email  \\\n",
      "0         Calvin Edan Love  CEL0561         Calvin.Edan.Love@dtaa.com   \n",
      "1  Christine Reagan Deleon  CRD0624  Christine.Reagan.Deleon@dtaa.com   \n",
      "2    Jade Felicia Caldwell  JFC0557    Jade.Felicia.Caldwell@dtaa.com   \n",
      "3   Aquila Stewart Dejesus  ASD0577   Aquila.Stewart.Dejesus@dtaa.com   \n",
      "4        Micah Abdul Rojas  MAR0955        Micah.Abdul.Rojas@dtaa.com   \n",
      "\n",
      "                   role  business_unit             functional_unit  \\\n",
      "0    ComputerProgrammer              1  2 - ResearchAndEngineering   \n",
      "1              Salesman              1       5 - SalesAndMarketing   \n",
      "2      SoftwareEngineer              1  2 - ResearchAndEngineering   \n",
      "3  ProductionLineWorker              1           3 - Manufacturing   \n",
      "4  ProductionLineWorker              1           3 - Manufacturing   \n",
      "\n",
      "               department               team                  supervisor  \\\n",
      "0  2 - SoftwareManagement       3 - Software  Stephanie Briar Harrington   \n",
      "1               2 - Sales  3 - RegionalSales           Winter Veda Burks   \n",
      "2  2 - SoftwareManagement       3 - Software  Stephanie Briar Harrington   \n",
      "3            3 - Assembly   3 - AssemblyDept   Whilemina Pandora England   \n",
      "4            3 - Assembly   6 - AssemblyDept         Sandra Beverly Diaz   \n",
      "\n",
      "  start_date   end_date  \n",
      "0 2009-12-01 2009-12-31  \n",
      "1 2009-12-01 2009-12-31  \n",
      "2 2009-12-01 2009-12-31  \n",
      "3 2009-12-01 2009-12-31  \n",
      "4 2009-12-01 2009-12-31  \n"
     ]
    }
   ],
   "source": [
    "res = con.execute(\"\"\"\n",
    "CREATE TABLE ldap_unified AS\n",
    "\n",
    "-- Data from LDAP_2009-12\n",
    "SELECT\n",
    "    \"employee_name\", \"user_id\", \"email\", \"role\", \"business_unit\", \"functional_unit\", \"department\", \"team\", \"supervisor\",\n",
    "    make_date(2009, 12, 01) AS start_date,\n",
    "    (make_date(2009, 12, 01) + INTERVAL '1 month' - INTERVAL '1 day')::DATE AS end_date\n",
    "FROM raw_db.\"LDAP_2009-12\"\n",
    "\n",
    "UNION ALL\n",
    "\n",
    "-- Data from LDAP_2010-01\n",
    "SELECT\n",
    "    \"employee_name\", \"user_id\", \"email\", \"role\", \"business_unit\", \"functional_unit\", \"department\", \"team\", \"supervisor\",\n",
    "    make_date(2010, 01, 01) AS start_date,\n",
    "    (make_date(2010, 01, 01) + INTERVAL '1 month' - INTERVAL '1 day')::DATE AS end_date\n",
    "FROM raw_db.\"LDAP_2010-01\"\n",
    "\n",
    "UNION ALL\n",
    "\n",
    "-- Data from LDAP_2010-02\n",
    "SELECT\n",
    "    \"employee_name\", \"user_id\", \"email\", \"role\", \"business_unit\", \"functional_unit\", \"department\", \"team\", \"supervisor\",\n",
    "    make_date(2010, 02, 01) AS start_date,\n",
    "    (make_date(2010, 02, 01) + INTERVAL '1 month' - INTERVAL '1 day')::DATE AS end_date\n",
    "FROM raw_db.\"LDAP_2010-02\"\n",
    "\n",
    "UNION ALL\n",
    "\n",
    "-- Data from LDAP_2010-03\n",
    "SELECT\n",
    "    \"employee_name\", \"user_id\", \"email\", \"role\", \"business_unit\", \"functional_unit\", \"department\", \"team\", \"supervisor\",\n",
    "    make_date(2010, 03, 01) AS start_date,\n",
    "    (make_date(2010, 03, 01) + INTERVAL '1 month' - INTERVAL '1 day')::DATE AS end_date\n",
    "FROM raw_db.\"LDAP_2010-03\"\n",
    "\n",
    "UNION ALL\n",
    "\n",
    "-- Data from LDAP_2010-04\n",
    "SELECT\n",
    "    \"employee_name\", \"user_id\", \"email\", \"role\", \"business_unit\", \"functional_unit\", \"department\", \"team\", \"supervisor\",\n",
    "    make_date(2010, 04, 01) AS start_date,\n",
    "    (make_date(2010, 04, 01) + INTERVAL '1 month' - INTERVAL '1 day')::DATE AS end_date\n",
    "FROM raw_db.\"LDAP_2010-04\"\n",
    "\n",
    "UNION ALL\n",
    "\n",
    "-- Data from LDAP_2010-05\n",
    "SELECT\n",
    "    \"employee_name\", \"user_id\", \"email\", \"role\", \"business_unit\", \"functional_unit\", \"department\", \"team\", \"supervisor\",\n",
    "    make_date(2010, 05, 01) AS start_date,\n",
    "    (make_date(2010, 05, 01) + INTERVAL '1 month' - INTERVAL '1 day')::DATE AS end_date\n",
    "FROM raw_db.\"LDAP_2010-05\"\n",
    "\n",
    "UNION ALL\n",
    "\n",
    "-- Data from LDAP_2010-06\n",
    "SELECT\n",
    "    \"employee_name\", \"user_id\", \"email\", \"role\", \"business_unit\", \"functional_unit\", \"department\", \"team\", \"supervisor\",\n",
    "    make_date(2010, 06, 01) AS start_date,\n",
    "    (make_date(2010, 06, 01) + INTERVAL '1 month' - INTERVAL '1 day')::DATE AS end_date\n",
    "FROM raw_db.\"LDAP_2010-06\"\n",
    "\n",
    "UNION ALL\n",
    "\n",
    "-- Data from LDAP_2010-07\n",
    "SELECT\n",
    "    \"employee_name\", \"user_id\", \"email\", \"role\", \"business_unit\", \"functional_unit\", \"department\", \"team\", \"supervisor\",\n",
    "    make_date(2010, 07, 01) AS start_date,\n",
    "    (make_date(2010, 07, 01) + INTERVAL '1 month' - INTERVAL '1 day')::DATE AS end_date\n",
    "FROM raw_db.\"LDAP_2010-07\"\n",
    "\n",
    "UNION ALL\n",
    "\n",
    "-- Data from LDAP_2010-08\n",
    "SELECT\n",
    "    \"employee_name\", \"user_id\", \"email\", \"role\", \"business_unit\", \"functional_unit\", \"department\", \"team\", \"supervisor\",\n",
    "    make_date(2010, 08, 01) AS start_date,\n",
    "    (make_date(2010, 08, 01) + INTERVAL '1 month' - INTERVAL '1 day')::DATE AS end_date\n",
    "FROM raw_db.\"LDAP_2010-08\"\n",
    "\n",
    "UNION ALL\n",
    "\n",
    "-- Data from LDAP_2010-09\n",
    "SELECT\n",
    "    \"employee_name\", \"user_id\", \"email\", \"role\", \"business_unit\", \"functional_unit\", \"department\", \"team\", \"supervisor\",\n",
    "    make_date(2010, 09, 01) AS start_date,\n",
    "    (make_date(2010, 09, 01) + INTERVAL '1 month' - INTERVAL '1 day')::DATE AS end_date\n",
    "FROM raw_db.\"LDAP_2010-09\"\n",
    "\n",
    "UNION ALL\n",
    "\n",
    "-- Data from LDAP_2010-10\n",
    "SELECT\n",
    "    \"employee_name\", \"user_id\", \"email\", \"role\", \"business_unit\", \"functional_unit\", \"department\", \"team\", \"supervisor\",\n",
    "    make_date(2010, 10, 01) AS start_date,\n",
    "    (make_date(2010, 10, 01) + INTERVAL '1 month' - INTERVAL '1 day')::DATE AS end_date\n",
    "FROM raw_db.\"LDAP_2010-10\"\n",
    "\n",
    "UNION ALL\n",
    "\n",
    "-- Data from LDAP_2010-11\n",
    "SELECT\n",
    "    \"employee_name\", \"user_id\", \"email\", \"role\", \"business_unit\", \"functional_unit\", \"department\", \"team\", \"supervisor\",\n",
    "    make_date(2010, 11, 01) AS start_date,\n",
    "    (make_date(2010, 11, 01) + INTERVAL '1 month' - INTERVAL '1 day')::DATE AS end_date\n",
    "FROM raw_db.\"LDAP_2010-11\"\n",
    "\n",
    "UNION ALL\n",
    "\n",
    "-- Data from LDAP_2010-12\n",
    "SELECT\n",
    "    \"employee_name\", \"user_id\", \"email\", \"role\", \"business_unit\", \"functional_unit\", \"department\", \"team\", \"supervisor\",\n",
    "    make_date(2010, 12, 01) AS start_date,\n",
    "    (make_date(2010, 12, 01) + INTERVAL '1 month' - INTERVAL '1 day')::DATE AS end_date\n",
    "FROM raw_db.\"LDAP_2010-12\"\n",
    "\n",
    "UNION ALL\n",
    "\n",
    "-- Data from LDAP_2011-01\n",
    "SELECT\n",
    "    \"employee_name\", \"user_id\", \"email\", \"role\", \"business_unit\", \"functional_unit\", \"department\", \"team\", \"supervisor\",\n",
    "    make_date(2011, 01, 01) AS start_date,\n",
    "    (make_date(2011, 01, 01) + INTERVAL '1 month' - INTERVAL '1 day')::DATE AS end_date\n",
    "FROM raw_db.\"LDAP_2011-01\"\n",
    "\n",
    "UNION ALL\n",
    "\n",
    "-- Data from LDAP_2011-02\n",
    "SELECT\n",
    "    \"employee_name\", \"user_id\", \"email\", \"role\", \"business_unit\", \"functional_unit\", \"department\", \"team\", \"supervisor\",\n",
    "    make_date(2011, 02, 01) AS start_date,\n",
    "    (make_date(2011, 02, 01) + INTERVAL '1 month' - INTERVAL '1 day')::DATE AS end_date\n",
    "FROM raw_db.\"LDAP_2011-02\"\n",
    "\n",
    "UNION ALL\n",
    "\n",
    "-- Data from LDAP_2011-03\n",
    "SELECT\n",
    "    \"employee_name\", \"user_id\", \"email\", \"role\", \"business_unit\", \"functional_unit\", \"department\", \"team\", \"supervisor\",\n",
    "    make_date(2011, 03, 01) AS start_date,\n",
    "    (make_date(2011, 03, 01) + INTERVAL '1 month' - INTERVAL '1 day')::DATE AS end_date\n",
    "FROM raw_db.\"LDAP_2011-03\"\n",
    "\n",
    "UNION ALL\n",
    "\n",
    "-- Data from LDAP_2011-04\n",
    "SELECT\n",
    "    \"employee_name\", \"user_id\", \"email\", \"role\", \"business_unit\", \"functional_unit\", \"department\", \"team\", \"supervisor\",\n",
    "    make_date(2011, 04, 01) AS start_date,\n",
    "    (make_date(2011, 04, 01) + INTERVAL '1 month' - INTERVAL '1 day')::DATE AS end_date\n",
    "FROM raw_db.\"LDAP_2011-04\"\n",
    "\n",
    "UNION ALL\n",
    "\n",
    "-- Data from LDAP_2011-05\n",
    "SELECT\n",
    "    \"employee_name\", \"user_id\", \"email\", \"role\", \"business_unit\", \"functional_unit\", \"department\", \"team\", \"supervisor\",\n",
    "    make_date(2011, 05, 01) AS start_date,\n",
    "    (make_date(2011, 05, 01) + INTERVAL '1 month' - INTERVAL '1 day')::DATE AS end_date\n",
    "FROM raw_db.\"LDAP_2011-05\";\"\"\").df()\n",
    "\n",
    "print(res)\n",
    "\n",
    "preview = con.execute(\"\"\"\n",
    "SELECT * FROM ldap_unified LIMIT 5\n",
    "\"\"\").df() \n",
    "\n",
    "print(preview)"
   ]
  },
  {
   "cell_type": "markdown",
   "id": "93a8cddf-59b7-45ca-a4e2-5d7eb6f5471f",
   "metadata": {
    "jp-MarkdownHeadingCollapsed": true
   },
   "source": [
    "#### Constructing logs_unified table "
   ]
  },
  {
   "cell_type": "code",
   "execution_count": 2,
   "id": "4483bcf7-5df0-459e-860b-2c3928928bba",
   "metadata": {},
   "outputs": [
    {
     "data": {
      "application/vnd.jupyter.widget-view+json": {
       "model_id": "618807d4a4f743708c3106813197977e",
       "version_major": 2,
       "version_minor": 0
      },
      "text/plain": [
       "FloatProgress(value=0.0, layout=Layout(width='auto'), style=ProgressStyle(bar_color='black'))"
      ]
     },
     "metadata": {},
     "output_type": "display_data"
    },
    {
     "name": "stdout",
     "output_type": "stream",
     "text": [
      "      Count\n",
      "0  32770222\n",
      "   user_id       pc           timestamp event_type details\n",
      "0  NGF0157  PC-6056 2010-01-02 06:49:00      Logon   Logon\n",
      "1  LRR0148  PC-4275 2010-01-02 06:50:00      Logon   Logon\n",
      "2  LRR0148  PC-4124 2010-01-02 06:53:04      Logon   Logon\n",
      "3  IRM0931  PC-7188 2010-01-02 07:00:00      Logon   Logon\n",
      "4  MOH0273  PC-6699 2010-01-02 07:00:00      Logon   Logon\n"
     ]
    }
   ],
   "source": [
    "res = con.execute(\"\"\"\n",
    "CREATE TABLE logs_unified AS\n",
    "-- 1. Get Logon events\n",
    "SELECT\n",
    "    \"user\" AS user_id,\n",
    "    \"pc\", -- Added PC for better context\n",
    "    \"date\" AS timestamp,\n",
    "    'Logon' AS event_type,\n",
    "    \"activity\" AS details\n",
    "FROM raw_db.logon\n",
    "\n",
    "UNION ALL\n",
    "\n",
    "-- 2. Get Device events\n",
    "SELECT\n",
    "    \"user\" AS user_id,\n",
    "    \"pc\", -- Added\n",
    "    \"date\" AS timestamp,\n",
    "    'Device' AS event_type,\n",
    "    \"activity\" AS details\n",
    "FROM raw_db.device\n",
    "\n",
    "UNION ALL\n",
    "\n",
    "-- 3. Get HTTP events\n",
    "SELECT\n",
    "    \"user\" AS user_id,\n",
    "    \"pc\", -- Added\n",
    "    \"date\" AS timestamp,\n",
    "    'HTTP' AS event_type,\n",
    "    \"url\" AS details\n",
    "FROM raw_db.http\n",
    "\n",
    "UNION ALL\n",
    "\n",
    "-- 4. Get File events\n",
    "SELECT\n",
    "    \"user\" AS user_id,\n",
    "    \"pc\", -- Added\n",
    "    \"date\" AS timestamp,\n",
    "    'File' AS event_type,\n",
    "    \"filename\" AS details\n",
    "FROM raw_db.file\n",
    "\n",
    "UNION ALL\n",
    "\n",
    "-- 5. Get Email events\n",
    "SELECT\n",
    "    \"user\" AS user_id,\n",
    "    \"pc\", -- Added\n",
    "    \"date\" AS timestamp,\n",
    "    'Email' AS event_type,\n",
    "    'To:' || \"to\" || '; Attachments:' || \"attachments\" AS details\n",
    "FROM raw_db.email;\"\"\").df()\n",
    "\n",
    "print(res)\n",
    "\n",
    "preview = con.execute(\"\"\"\n",
    "SELECT * FROM logs_unified LIMIT 5\n",
    "\"\"\").df() \n",
    "\n",
    "print(preview)"
   ]
  },
  {
   "cell_type": "markdown",
   "id": "ae713d89-7936-4af9-b980-90b28984d2d9",
   "metadata": {
    "jp-MarkdownHeadingCollapsed": true
   },
   "source": [
    "#### Reviewing constructed tables"
   ]
  },
  {
   "cell_type": "code",
   "execution_count": 7,
   "id": "fcb75615-9441-47e6-98ae-5b3abfc84690",
   "metadata": {},
   "outputs": [
    {
     "name": "stdout",
     "output_type": "stream",
     "text": [
      "table name : ldap_unified\n",
      "        column_name column_type null   key default extra\n",
      "0     employee_name     VARCHAR  YES  None    None  None\n",
      "1           user_id     VARCHAR  YES  None    None  None\n",
      "2             email     VARCHAR  YES  None    None  None\n",
      "3              role     VARCHAR  YES  None    None  None\n",
      "4     business_unit      BIGINT  YES  None    None  None\n",
      "5   functional_unit     VARCHAR  YES  None    None  None\n",
      "6        department     VARCHAR  YES  None    None  None\n",
      "7              team     VARCHAR  YES  None    None  None\n",
      "8        supervisor     VARCHAR  YES  None    None  None\n",
      "9        start_date        DATE  YES  None    None  None\n",
      "10         end_date        DATE  YES  None    None  None\n",
      "\n",
      "\n",
      "\n",
      "table name : logs_unified\n",
      "  column_name column_type null   key default extra\n",
      "0     user_id     VARCHAR  YES  None    None  None\n",
      "1          pc     VARCHAR  YES  None    None  None\n",
      "2   timestamp   TIMESTAMP  YES  None    None  None\n",
      "3  event_type     VARCHAR  YES  None    None  None\n",
      "4     details     VARCHAR  YES  None    None  None\n",
      "\n",
      "\n",
      "\n",
      "table name : psychometric\n",
      "     column_name column_type null   key default extra\n",
      "0  employee_name     VARCHAR  YES  None    None  None\n",
      "1        user_id     VARCHAR  YES  None    None  None\n",
      "2              O      BIGINT  YES  None    None  None\n",
      "3              C      BIGINT  YES  None    None  None\n",
      "4              E      BIGINT  YES  None    None  None\n",
      "5              A      BIGINT  YES  None    None  None\n",
      "6              N      BIGINT  YES  None    None  None\n",
      "\n",
      "\n",
      "\n"
     ]
    }
   ],
   "source": [
    "res = con.execute(\"show tables;\").df()\n",
    "for t in res[\"name\"] : \n",
    "    s = con.execute(f\"desc {t}\").df()  \n",
    "    print(f\"table name : {t}\\n{s}\\n\\n\\n\")  "
   ]
  },
  {
   "cell_type": "markdown",
   "id": "49a8e7df-9164-4882-808e-d7b949204635",
   "metadata": {
    "jp-MarkdownHeadingCollapsed": true
   },
   "source": [
    "#### Constructing and reviewing the final feature table (feature_table) from the 3 tables"
   ]
  },
  {
   "cell_type": "code",
   "execution_count": 3,
   "id": "91843920-0d3c-4133-93ae-61eacdd07c7f",
   "metadata": {},
   "outputs": [
    {
     "data": {
      "application/vnd.jupyter.widget-view+json": {
       "model_id": "f593767b60674530ba7761e2283b706b",
       "version_major": 2,
       "version_minor": 0
      },
      "text/plain": [
       "FloatProgress(value=0.0, layout=Layout(width='auto'), style=ProgressStyle(bar_color='black'))"
      ]
     },
     "metadata": {},
     "output_type": "display_data"
    },
    {
     "name": "stdout",
     "output_type": "stream",
     "text": [
      "      Count\n",
      "0  32770222\n",
      "                      event_id  user_id       pc           timestamp  \\\n",
      "0  2010-01-04 08:09:00_AAE0190  AAE0190  PC-8915 2010-01-04 08:09:00   \n",
      "1  2010-01-04 08:10:50_AAE0190  AAE0190  PC-8915 2010-01-04 08:10:50   \n",
      "2  2010-01-04 08:12:10_AAE0190  AAE0190  PC-8915 2010-01-04 08:12:10   \n",
      "3  2010-01-04 08:14:04_AAE0190  AAE0190  PC-8915 2010-01-04 08:14:04   \n",
      "4  2010-01-04 08:16:00_AAE0190  AAE0190  PC-8915 2010-01-04 08:16:00   \n",
      "\n",
      "  event_type                                            details   O   C   E  \\\n",
      "0      Logon                                              Logon  36  30  14   \n",
      "1       HTTP  http://megaupload.com/Malcolm_X/lumumba/oybttv...  36  30  14   \n",
      "2       HTTP  http://megaclick.com/Albert_Prince_Consort/cur...  36  30  14   \n",
      "3       HTTP  http://sfgate.com/Sweet_Track/westhay/guebhtuc...  36  30  14   \n",
      "4       HTTP  http://sfgate.com/Sweet_Track/westhay/guebhtuc...  36  30  14   \n",
      "\n",
      "    A   N     role      department        supervisor  \n",
      "0  50  29  Manager  1 - Purchasing  Kirby Bo Pollard  \n",
      "1  50  29  Manager  1 - Purchasing  Kirby Bo Pollard  \n",
      "2  50  29  Manager  1 - Purchasing  Kirby Bo Pollard  \n",
      "3  50  29  Manager  1 - Purchasing  Kirby Bo Pollard  \n",
      "4  50  29  Manager  1 - Purchasing  Kirby Bo Pollard  \n"
     ]
    }
   ],
   "source": [
    "res = con.execute(\"\"\"\n",
    "CREATE TABLE feature_table AS\n",
    "SELECT\n",
    "    (CAST(l.timestamp AS VARCHAR) || '_' || l.user_id) AS event_id,\n",
    "    l.user_id,\n",
    "    l.pc,\n",
    "    l.timestamp,\n",
    "    l.event_type,\n",
    "    l.details,\n",
    "    -- Add psychometric data (static per user)\n",
    "    p.O, p.C, p.E, p.A, p.N,\n",
    "    -- Add LDAP data (changes monthly)\n",
    "    lu.role,\n",
    "    lu.department,\n",
    "    lu.supervisor\n",
    "FROM\n",
    "    logs_unified AS l\n",
    "LEFT JOIN\n",
    "    psychometric AS p ON l.user_id = p.user_id\n",
    "LEFT JOIN\n",
    "    ldap_unified AS lu ON l.user_id = lu.user_id\n",
    "    -- This time-based join is the most critical part\n",
    "    AND l.timestamp BETWEEN lu.start_date AND lu.end_date\n",
    "-- This ensures the final data is a chronological story for each user\n",
    "ORDER BY\n",
    "    l.user_id, l.timestamp;\n",
    "\"\"\").df()\n",
    "\n",
    "print(res)\n",
    "\n",
    "preview = con.execute(\"\"\"\n",
    "SELECT * FROM feature_table LIMIT 5\n",
    "\"\"\").df() \n",
    "\n",
    "print(preview)"
   ]
  },
  {
   "cell_type": "code",
   "execution_count": 4,
   "id": "f917f5fe-3eb4-4e4b-9bef-3271d9e76d1d",
   "metadata": {},
   "outputs": [
    {
     "name": "stdout",
     "output_type": "stream",
     "text": [
      "   column_name column_type null   key default extra\n",
      "0     event_id     VARCHAR  YES  None    None  None\n",
      "1      user_id     VARCHAR  YES  None    None  None\n",
      "2           pc     VARCHAR  YES  None    None  None\n",
      "3    timestamp   TIMESTAMP  YES  None    None  None\n",
      "4   event_type     VARCHAR  YES  None    None  None\n",
      "5      details     VARCHAR  YES  None    None  None\n",
      "6            O      BIGINT  YES  None    None  None\n",
      "7            C      BIGINT  YES  None    None  None\n",
      "8            E      BIGINT  YES  None    None  None\n",
      "9            A      BIGINT  YES  None    None  None\n",
      "10           N      BIGINT  YES  None    None  None\n",
      "11        role     VARCHAR  YES  None    None  None\n",
      "12  department     VARCHAR  YES  None    None  None\n",
      "13  supervisor     VARCHAR  YES  None    None  None\n"
     ]
    }
   ],
   "source": [
    "s = con.execute(\"desc feature_table;\").df() \n",
    "print(s)"
   ]
  },
  {
   "cell_type": "markdown",
   "id": "5ab2998a-6857-4acd-8b0c-873e612c1ae3",
   "metadata": {
    "jp-MarkdownHeadingCollapsed": true
   },
   "source": [
    "#### Copying (and reviewing) insiders table from original CERT r4.2 db to supervised_dataset db"
   ]
  },
  {
   "cell_type": "code",
   "execution_count": 2,
   "id": "ff00d0d1-b4d8-4ae1-ad4c-0fa7e06281bf",
   "metadata": {},
   "outputs": [
    {
     "name": "stdout",
     "output_type": "stream",
     "text": [
      "   Count\n",
      "0     70\n"
     ]
    }
   ],
   "source": [
    "res = con.execute(\"\"\"\n",
    "        CREATE TABLE insiders AS \n",
    "        SELECT * FROM raw_db.insiders;\n",
    "    \"\"\").df() \n",
    "\n",
    "print(res)"
   ]
  },
  {
   "cell_type": "code",
   "execution_count": 5,
   "id": "960ed9c6-6517-4d99-bc84-46abdfaa26b7",
   "metadata": {},
   "outputs": [
    {
     "name": "stdout",
     "output_type": "stream",
     "text": [
      "Preview :\n",
      "   dataset  scenario             details     user               start  \\\n",
      "0      4.2         1  r4.2-1-AAM0658.csv  AAM0658 2010-10-23 01:34:19   \n",
      "1      4.2         1  r4.2-1-AJR0932.csv  AJR0932 2010-09-10 19:12:01   \n",
      "2      4.2         1  r4.2-1-BDV0168.csv  BDV0168 2010-07-30 19:56:44   \n",
      "3      4.2         1  r4.2-1-BIH0745.csv  BIH0745 2010-07-13 20:15:23   \n",
      "4      4.2         1  r4.2-1-BLS0678.csv  BLS0678 2010-09-21 01:16:22   \n",
      "\n",
      "                  end  \n",
      "0 2010-10-29 05:23:28  \n",
      "1 2010-09-18 02:02:51  \n",
      "2 2010-08-10 05:16:41  \n",
      "3 2010-07-13 21:20:44  \n",
      "4 2010-09-30 04:48:19  \n",
      "\n",
      "structure :\n",
      "  column_name column_type null   key default extra\n",
      "0     dataset      DOUBLE  YES  None    None  None\n",
      "1    scenario      BIGINT  YES  None    None  None\n",
      "2     details     VARCHAR  YES  None    None  None\n",
      "3        user     VARCHAR  YES  None    None  None\n",
      "4       start   TIMESTAMP  YES  None    None  None\n",
      "5         end   TIMESTAMP  YES  None    None  None\n",
      "\n"
     ]
    }
   ],
   "source": [
    "preview = con.execute(\"select * from insiders LIMIT 5\").df()\n",
    "print(f\"Preview :\\n{preview}\\n\")  \n",
    "\n",
    "struct = con.execute(\"desc insiders\").df() \n",
    "print(f\"structure :\\n{struct}\\n\") "
   ]
  },
  {
   "cell_type": "markdown",
   "id": "5bf5c166-7d90-412e-860a-16efc914c525",
   "metadata": {
    "jp-MarkdownHeadingCollapsed": true
   },
   "source": [
    "#### Closing the db connection"
   ]
  },
  {
   "cell_type": "code",
   "execution_count": 5,
   "id": "fa8dd9d0-d9ba-4514-9159-09294d2fcf4a",
   "metadata": {},
   "outputs": [],
   "source": [
    "con.close() "
   ]
  }
 ],
 "metadata": {
  "kernelspec": {
   "display_name": "Python (Insider Threat Detection Venv)",
   "language": "python",
   "name": "insider_threat_detection_venv_kernel"
  },
  "language_info": {
   "codemirror_mode": {
    "name": "ipython",
    "version": 3
   },
   "file_extension": ".py",
   "mimetype": "text/x-python",
   "name": "python",
   "nbconvert_exporter": "python",
   "pygments_lexer": "ipython3",
   "version": "3.12.4"
  }
 },
 "nbformat": 4,
 "nbformat_minor": 5
}
