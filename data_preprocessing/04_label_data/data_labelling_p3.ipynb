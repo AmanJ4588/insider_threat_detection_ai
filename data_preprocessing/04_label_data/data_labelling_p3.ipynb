{
 "cells": [
  {
   "cell_type": "markdown",
   "id": "4082bd45-22fd-4ea5-afc3-fc08a5439e0a",
   "metadata": {},
   "source": [
    "#### 1. Importing libraries and initial configurations"
   ]
  },
  {
   "cell_type": "code",
   "execution_count": 1,
   "id": "e41fb2af-faa6-4fc1-b44c-f9e208b04776",
   "metadata": {},
   "outputs": [],
   "source": [
    "import duckdb"
   ]
  },
  {
   "cell_type": "code",
   "execution_count": 2,
   "id": "6aa49756-1c0f-4d9f-bb4a-fb9db0a957c3",
   "metadata": {},
   "outputs": [],
   "source": [
    "DB_FILE = '../../dataset/supervised_dataset.duckdb'\n",
    "FINAL_TRAINING_TABLE = 'training_data'"
   ]
  },
  {
   "cell_type": "markdown",
   "id": "0d16942c-2343-460d-8e0a-5499de417aaa",
   "metadata": {},
   "source": [
    "#### 2. Joining sequenced_feature_table and labeled_sequences to create the final training table  "
   ]
  },
  {
   "cell_type": "code",
   "execution_count": 4,
   "id": "8aa67a91-a6d7-47c0-b720-01a974a156d5",
   "metadata": {},
   "outputs": [
    {
     "name": "stdout",
     "output_type": "stream",
     "text": [
      "Successfully connected to ../../dataset/supervised_dataset.duckdb\n",
      "Creating the final 'training_data' table...\n"
     ]
    },
    {
     "data": {
      "application/vnd.jupyter.widget-view+json": {
       "model_id": "61d1bb7c3b8d41deaf0ccde8981fa3a9",
       "version_major": 2,
       "version_minor": 0
      },
      "text/plain": [
       "FloatProgress(value=0.0, layout=Layout(width='auto'), style=ProgressStyle(bar_color='black'))"
      ]
     },
     "metadata": {},
     "output_type": "display_data"
    },
    {
     "name": "stdout",
     "output_type": "stream",
     "text": [
      "Table created successfully.\n",
      "\n",
      "--- Verifying the final training data (showing one sequence) ---\n",
      "     user_id           timestamp event_type sequence_id  label\n",
      "0    KWC0004 2010-03-18 08:12:39       HTTP  KWC0004_94      0\n",
      "1    KWC0004 2010-03-18 09:02:09       HTTP  KWC0004_94      0\n",
      "2    KWC0004 2010-03-18 09:19:16       HTTP  KWC0004_94      0\n",
      "3    KWC0004 2010-03-18 09:45:59      Email  KWC0004_94      0\n",
      "4    KWC0004 2010-03-18 10:32:08       HTTP  KWC0004_94      0\n",
      "..       ...                 ...        ...         ...    ...\n",
      "321  KWC0004 2010-03-18 14:12:07       HTTP  KWC0004_94      0\n",
      "322  KWC0004 2010-03-18 14:17:54       HTTP  KWC0004_94      0\n",
      "323  KWC0004 2010-03-18 14:35:12       HTTP  KWC0004_94      0\n",
      "324  KWC0004 2010-03-18 15:39:56       HTTP  KWC0004_94      0\n",
      "325  KWC0004 2010-03-18 16:19:00       HTTP  KWC0004_94      0\n",
      "\n",
      "[326 rows x 5 columns]\n",
      "\n",
      "Final training table is now successfully constructed, The table is stored as : 'training_data'.\n"
     ]
    }
   ],
   "source": [
    "try:\n",
    "    conn = duckdb.connect(database=DB_FILE, read_only=False)\n",
    "    print(f\"Successfully connected to {DB_FILE}\")\n",
    "\n",
    "    query = f\"\"\"\n",
    "    CREATE OR REPLACE TABLE {FINAL_TRAINING_TABLE} AS\n",
    "    SELECT\n",
    "        sft.*, -- Selects all columns from the sequenced feature table\n",
    "        ls.label\n",
    "    FROM\n",
    "        sequenced_feature_table AS sft\n",
    "    INNER JOIN\n",
    "        labeled_sequences AS ls ON sft.sequence_id = ls.sequence_id;\n",
    "    \"\"\"\n",
    "\n",
    "    print(f\"Creating the final '{FINAL_TRAINING_TABLE}' table...\")\n",
    "    conn.execute(query)\n",
    "    print(\"Table created successfully.\")\n",
    "\n",
    "    print(\"\\n--- Verifying the final training data (showing one sequence) ---\")\n",
    "    verification_df = conn.execute(\n",
    "        f\"SELECT user_id, timestamp, event_type, sequence_id, label FROM {FINAL_TRAINING_TABLE} WHERE sequence_id = (SELECT sequence_id FROM {FINAL_TRAINING_TABLE} LIMIT 1);\"\n",
    "    ).fetchdf()\n",
    "    print(verification_df)\n",
    "\n",
    "    print(f\"\\nFinal training table is now successfully constructed, The table is stored as : '{FINAL_TRAINING_TABLE}'.\")\n",
    "\n",
    "except Exception as e:\n",
    "    print(f\"An error occurred: {e}\")"
   ]
  },
  {
   "cell_type": "code",
   "execution_count": 6,
   "id": "2a031dd4-3bcc-4aa3-b686-78e1986d4b9e",
   "metadata": {},
   "outputs": [],
   "source": [
    "conn.close() "
   ]
  }
 ],
 "metadata": {
  "kernelspec": {
   "display_name": "Python (Insider Threat Detection Venv)",
   "language": "python",
   "name": "insider_threat_detection_venv_kernel"
  },
  "language_info": {
   "codemirror_mode": {
    "name": "ipython",
    "version": 3
   },
   "file_extension": ".py",
   "mimetype": "text/x-python",
   "name": "python",
   "nbconvert_exporter": "python",
   "pygments_lexer": "ipython3",
   "version": "3.12.4"
  }
 },
 "nbformat": 4,
 "nbformat_minor": 5
}
