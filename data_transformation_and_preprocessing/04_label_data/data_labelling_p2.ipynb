{
 "cells": [
  {
   "cell_type": "markdown",
   "id": "6a6535c7-a447-44e0-b848-b6d80be9f041",
   "metadata": {},
   "source": [
    "#### 1. Importing libraries and initial configurations"
   ]
  },
  {
   "cell_type": "code",
   "execution_count": 11,
   "id": "0629cfd5-6519-445c-96e8-1fdf3b3eb8d4",
   "metadata": {},
   "outputs": [],
   "source": [
    "import duckdb"
   ]
  },
  {
   "cell_type": "code",
   "execution_count": 12,
   "id": "91704379-aa6b-43e9-a312-4397609f1320",
   "metadata": {},
   "outputs": [],
   "source": [
    "DB_FILE = '../../dataset/supervised_dataset.duckdb'\n",
    "SOURCE_TABLE = 'sequenced_feature_table'\n",
    "LABELED_TABLE_NAME = 'labeled_sequences'"
   ]
  },
  {
   "cell_type": "markdown",
   "id": "73d7f080-27f0-4aed-85e3-00e8b9e619c9",
   "metadata": {},
   "source": [
    "#### 2. Joining insiders and sequenced_feature_table to create a labels table "
   ]
  },
  {
   "cell_type": "code",
   "execution_count": 13,
   "id": "f9498339-48e8-4613-972c-24e9a1c531a1",
   "metadata": {},
   "outputs": [
    {
     "name": "stdout",
     "output_type": "stream",
     "text": [
      "Successfully connected to ../../dataset/supervised_dataset.duckdb\n",
      "Generating labels and creating new table 'labeled_sequences'...\n"
     ]
    },
    {
     "data": {
      "application/vnd.jupyter.widget-view+json": {
       "model_id": "711ac32be84349498721eba24a353cd0",
       "version_major": 2,
       "version_minor": 0
      },
      "text/plain": [
       "FloatProgress(value=0.0, layout=Layout(width='auto'), style=ProgressStyle(bar_color='black'))"
      ]
     },
     "metadata": {},
     "output_type": "display_data"
    },
    {
     "name": "stdout",
     "output_type": "stream",
     "text": [
      "Table created successfully.\n",
      "\n",
      "--- Verifying the new table (showing first 10 rows) ---\n",
      "    sequence_id  label\n",
      "0  MIM0712_2103      0\n",
      "1  MJB0588_1187      0\n",
      "2  MJB0588_1538      0\n",
      "3   MJM0510_135      0\n",
      "4   MJM0510_189      0\n",
      "5  MJM0510_1364      0\n",
      "6  MJM0510_1459      0\n",
      "7  MJS0890_1086      0\n",
      "8   MKL0941_148      0\n",
      "9   MKL0941_425      0\n",
      "\n",
      "--- Verifying the label distribution (IMPORTANT!) ---\n",
      "   label    count\n",
      "0      0  1437450\n",
      "1      1     5738\n",
      "\n",
      "This shows the class imbalance you will need to handle in your model.\n",
      "\n",
      "The labels are now available in the table 'labeled_sequences'.\n"
     ]
    }
   ],
   "source": [
    "try:\n",
    "    conn = duckdb.connect(database=DB_FILE, read_only=False)\n",
    "    print(f\"Successfully connected to {DB_FILE}\")\n",
    "\n",
    "    #--- SQL query to join and create the final labelled table. --- \n",
    "    query = f\"\"\"\n",
    "    CREATE OR REPLACE TABLE {LABELED_TABLE_NAME} AS\n",
    "    WITH MaliciousSequenceIDs AS (\n",
    "        -- Step 1: Find all sequence_ids that have at least one malicious event.\n",
    "        -- An event is malicious if its user and timestamp match an entry in the insiders table.\n",
    "        SELECT DISTINCT\n",
    "            sft.sequence_id\n",
    "        FROM\n",
    "            {SOURCE_TABLE} AS sft\n",
    "        INNER JOIN\n",
    "            insiders AS i ON sft.user_id = i.user\n",
    "        WHERE\n",
    "            sft.timestamp BETWEEN i.start AND i.end\n",
    "    )\n",
    "    -- Step 2: Assign a label to EVERY unique sequence.\n",
    "    SELECT\n",
    "        DISTINCT sequence_id,\n",
    "        -- Use a CASE statement to assign the label.\n",
    "        -- If the sequence_id is in our list of malicious IDs, label it 1, otherwise 0.\n",
    "        CASE\n",
    "            WHEN sequence_id IN (SELECT sequence_id FROM MaliciousSequenceIDs) THEN 1\n",
    "            ELSE 0\n",
    "        END AS label\n",
    "    FROM\n",
    "        {SOURCE_TABLE};\n",
    "    \"\"\"\n",
    "\n",
    "    # --- Execute the Query ---\n",
    "    print(f\"Generating labels and creating new table '{LABELED_TABLE_NAME}'...\")\n",
    "    conn.execute(query)\n",
    "    print(\"Table created successfully.\")\n",
    "\n",
    "    # --- Verification Step ---\n",
    "    print(\"\\n--- Verifying the new table (showing first 10 rows) ---\")\n",
    "    verification_df = conn.execute(\n",
    "        f\"SELECT * FROM {LABELED_TABLE_NAME} LIMIT 10;\"\n",
    "    ).fetchdf()\n",
    "    print(verification_df)\n",
    "\n",
    "    print(\"\\n--- Verifying the label distribution (IMPORTANT!) ---\")\n",
    "    label_distribution = conn.execute(\n",
    "        f\"SELECT label, COUNT(sequence_id) AS count FROM {LABELED_TABLE_NAME} GROUP BY label;\"\n",
    "    ).fetchdf()\n",
    "    print(label_distribution)\n",
    "    print(\"\\nThis shows the class imbalance you will need to handle in your model.\")\n",
    "\n",
    "    print(f\"\\nThe labels are now available in the table '{LABELED_TABLE_NAME}'.\")\n",
    "\n",
    "except Exception as e:\n",
    "    print(f\"An error occurred: {e}\")\n"
   ]
  },
  {
   "cell_type": "code",
   "execution_count": 14,
   "id": "0aef3a84-449e-46f4-b155-df9cd0faee4f",
   "metadata": {},
   "outputs": [],
   "source": [
    "conn.close() "
   ]
  }
 ],
 "metadata": {
  "kernelspec": {
   "display_name": "Python (Insider Threat Detection Venv)",
   "language": "python",
   "name": "insider_threat_detection_venv_kernel"
  },
  "language_info": {
   "codemirror_mode": {
    "name": "ipython",
    "version": 3
   },
   "file_extension": ".py",
   "mimetype": "text/x-python",
   "name": "python",
   "nbconvert_exporter": "python",
   "pygments_lexer": "ipython3",
   "version": "3.12.4"
  }
 },
 "nbformat": 4,
 "nbformat_minor": 5
}
