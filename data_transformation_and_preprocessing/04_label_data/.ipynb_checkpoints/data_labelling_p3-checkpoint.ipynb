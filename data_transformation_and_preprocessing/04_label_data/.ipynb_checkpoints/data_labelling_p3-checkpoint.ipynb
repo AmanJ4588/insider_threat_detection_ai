{
 "cells": [
  {
   "cell_type": "markdown",
   "id": "4082bd45-22fd-4ea5-afc3-fc08a5439e0a",
   "metadata": {},
   "source": [
    "#### 1. Importing libraries and initial configurations"
   ]
  },
  {
   "cell_type": "code",
   "execution_count": 1,
   "id": "e41fb2af-faa6-4fc1-b44c-f9e208b04776",
   "metadata": {},
   "outputs": [],
   "source": [
    "import duckdb"
   ]
  },
  {
   "cell_type": "code",
   "execution_count": 2,
   "id": "6aa49756-1c0f-4d9f-bb4a-fb9db0a957c3",
   "metadata": {},
   "outputs": [],
   "source": [
    "DB_FILE = '../../dataset/supervised_dataset.duckdb'\n",
    "FINAL_TRANSFORMED_DATA_TABLE = 'transformed_data' "
   ]
  },
  {
   "cell_type": "markdown",
   "id": "0d16942c-2343-460d-8e0a-5499de417aaa",
   "metadata": {},
   "source": [
    "#### 2. Joining sequenced_feature_table and labeled_sequences to create the transformed data table"
   ]
  },
  {
   "cell_type": "code",
   "execution_count": 6,
   "id": "8aa67a91-a6d7-47c0-b720-01a974a156d5",
   "metadata": {},
   "outputs": [
    {
     "name": "stdout",
     "output_type": "stream",
     "text": [
      "Successfully connected to ../../dataset/supervised_dataset.duckdb\n",
      "Creating the final 'transformed_data' table...\n"
     ]
    },
    {
     "data": {
      "application/vnd.jupyter.widget-view+json": {
       "model_id": "5fc1791443db45e9b8e70f1db4485dcb",
       "version_major": 2,
       "version_minor": 0
      },
      "text/plain": [
       "FloatProgress(value=0.0, layout=Layout(width='auto'), style=ProgressStyle(bar_color='black'))"
      ]
     },
     "metadata": {},
     "output_type": "display_data"
    },
    {
     "name": "stdout",
     "output_type": "stream",
     "text": [
      "Table created successfully.\n",
      "\n",
      "--- Verifying the final transformed data table (showing one sequence) ---\n",
      "    user_id           timestamp event_type  sequence_id  label\n",
      "0   ABN0239 2010-03-05 14:01:13       HTTP  ABN0239_131      0\n",
      "1   ABN0239 2010-03-05 14:13:37      Email  ABN0239_131      0\n",
      "2   ABN0239 2010-03-05 16:35:48       HTTP  ABN0239_131      0\n",
      "3   ABN0239 2010-03-05 17:07:40       HTTP  ABN0239_131      0\n",
      "4   ABN0239 2010-03-05 17:23:26       HTTP  ABN0239_131      0\n",
      "..      ...                 ...        ...          ...    ...\n",
      "66  ABN0239 2010-03-05 16:35:19       HTTP  ABN0239_131      0\n",
      "67  ABN0239 2010-03-05 17:50:09       HTTP  ABN0239_131      0\n",
      "68  ABN0239 2010-03-05 17:50:50       HTTP  ABN0239_131      0\n",
      "69  ABN0239 2010-03-05 17:50:16       HTTP  ABN0239_131      0\n",
      "70  ABN0239 2010-03-05 17:50:37       HTTP  ABN0239_131      0\n",
      "\n",
      "[71 rows x 5 columns]\n",
      "\n",
      "Final transformed data table is now successfully constructed, The table is stored as : 'transformed_data'.\n"
     ]
    }
   ],
   "source": [
    "try:\n",
    "    conn = duckdb.connect(database=DB_FILE, read_only=False)\n",
    "    print(f\"Successfully connected to {DB_FILE}\")\n",
    "\n",
    "    query = f\"\"\"\n",
    "    CREATE OR REPLACE TABLE {FINAL_TRANSFORMED_DATA_TABLE} AS\n",
    "    SELECT\n",
    "        sft.*, -- Selects all columns from the sequenced feature table\n",
    "        ls.label\n",
    "    FROM\n",
    "        sequenced_feature_table AS sft\n",
    "    INNER JOIN\n",
    "        labeled_sequences AS ls ON sft.sequence_id = ls.sequence_id;\n",
    "    \"\"\"\n",
    "\n",
    "    print(f\"Creating the final '{FINAL_TRANSFORMED_DATA_TABLE}' table...\")\n",
    "    conn.execute(query)\n",
    "    print(\"Table created successfully.\")\n",
    "\n",
    "    print(\"\\n--- Verifying the final transformed data table (showing one sequence) ---\")\n",
    "    verification_df = conn.execute(\n",
    "        f\"SELECT user_id, timestamp, event_type, sequence_id, label FROM {FINAL_TRANSFORMED_DATA_TABLE} WHERE sequence_id = (SELECT sequence_id FROM {FINAL_TRANSFORMED_DATA_TABLE} LIMIT 1);\"\n",
    "    ).fetchdf()\n",
    "    print(verification_df)\n",
    "\n",
    "    print(f\"\\nFinal transformed data table is now successfully constructed, The table is stored as : '{FINAL_TRANSFORMED_DATA_TABLE}'.\")\n",
    "\n",
    "except Exception as e:\n",
    "    print(f\"An error occurred: {e}\")"
   ]
  },
  {
   "cell_type": "code",
   "execution_count": null,
   "id": "f672202d-be09-4538-a4e7-661486372a70",
   "metadata": {},
   "outputs": [],
   "source": [
    "conn.close()"
   ]
  }
 ],
 "metadata": {
  "kernelspec": {
   "display_name": "Python (Insider Threat Detection Venv)",
   "language": "python",
   "name": "insider_threat_detection_venv_kernel"
  },
  "language_info": {
   "codemirror_mode": {
    "name": "ipython",
    "version": 3
   },
   "file_extension": ".py",
   "mimetype": "text/x-python",
   "name": "python",
   "nbconvert_exporter": "python",
   "pygments_lexer": "ipython3",
   "version": "3.12.4"
  }
 },
 "nbformat": 4,
 "nbformat_minor": 5
}
