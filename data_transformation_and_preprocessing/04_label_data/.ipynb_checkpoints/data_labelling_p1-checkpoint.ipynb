{
 "cells": [
  {
   "cell_type": "markdown",
   "id": "287a423c-5807-4b35-8831-88083d65fbd3",
   "metadata": {},
   "source": [
    "#### 1. Importing libraries and setting up initial configurations"
   ]
  },
  {
   "cell_type": "code",
   "execution_count": 9,
   "id": "0a179adc-3ba2-470f-81fa-dbbe4039fd76",
   "metadata": {},
   "outputs": [],
   "source": [
    "import duckdb\n",
    "import os"
   ]
  },
  {
   "cell_type": "code",
   "execution_count": 10,
   "id": "87892789-a700-4fd0-89bb-0abaf63f880e",
   "metadata": {},
   "outputs": [],
   "source": [
    "DB_FILE = '../../dataset/supervised_dataset.duckdb'\n",
    "\n",
    "NEW_TABLE_NAME = 'sequenced_feature_table'\n",
    "\n",
    "SESSION_TIMEOUT = '30 minutes'\n",
    "\n",
    "TEMP_DIR = 'duckdb_temp'\n",
    "if not os.path.exists(TEMP_DIR):\n",
    "    os.makedirs(TEMP_DIR)"
   ]
  },
  {
   "cell_type": "markdown",
   "id": "e97b1b6d-3369-452d-ae22-b88bfec189b2",
   "metadata": {},
   "source": [
    "#### 2. Creating new feature table with sequence id's"
   ]
  },
  {
   "cell_type": "code",
   "execution_count": 11,
   "id": "963d869a-f15f-45f6-97da-211edc64cc20",
   "metadata": {},
   "outputs": [
    {
     "name": "stdout",
     "output_type": "stream",
     "text": [
      "Successfully connected to ../../dataset/supervised_dataset.duckdb\n",
      "Creating new table 'sequenced_feature_table' \n"
     ]
    },
    {
     "data": {
      "application/vnd.jupyter.widget-view+json": {
       "model_id": "35307bbfc068441c9292e0beef7b45bc",
       "version_major": 2,
       "version_minor": 0
      },
      "text/plain": [
       "FloatProgress(value=0.0, layout=Layout(width='auto'), style=ProgressStyle(bar_color='black'))"
      ]
     },
     "metadata": {},
     "output_type": "display_data"
    },
    {
     "name": "stdout",
     "output_type": "stream",
     "text": [
      "Table created successfully.\n",
      "\n",
      "--- Verifying the new table (showing first 10 rows) ---\n",
      "   user_id           timestamp sequence_id\n",
      "0  AAE0190 2010-01-04 08:09:00   AAE0190_0\n",
      "1  AAE0190 2010-01-04 08:10:50   AAE0190_0\n",
      "2  AAE0190 2010-01-04 08:12:10   AAE0190_0\n",
      "3  AAE0190 2010-01-04 08:14:04   AAE0190_0\n",
      "4  AAE0190 2010-01-04 08:16:00   AAE0190_0\n",
      "5  AAE0190 2010-01-04 08:19:15   AAE0190_0\n",
      "6  AAE0190 2010-01-04 08:19:50   AAE0190_0\n",
      "7  AAE0190 2010-01-04 08:20:14   AAE0190_0\n",
      "8  AAE0190 2010-01-04 08:26:24   AAE0190_0\n",
      "9  AAE0190 2010-01-04 08:29:44   AAE0190_0\n",
      "\n",
      "Data with sequence IDs is now in the table 'sequenced_feature_table'.\n"
     ]
    }
   ],
   "source": [
    "try:\n",
    "    conn = duckdb.connect(database=DB_FILE, read_only=False)\n",
    "    print(f\"Successfully connected to {DB_FILE}\")\n",
    "\n",
    "    query = f\"\"\"\n",
    "    -- Allow DuckDB to use disk if RAM is full\n",
    "    SET temp_directory='{TEMP_DIR}';\n",
    "\n",
    "    -- Optionally increase memory limit if you have more RAM available\n",
    "    -- SET memory_limit='16GB'; -- Uncomment and adjust if you have more than 12.5GB of RAM\n",
    "\n",
    "    -- Create the new table, replacing it if it already exists\n",
    "    CREATE OR REPLACE TABLE {NEW_TABLE_NAME} AS\n",
    "    WITH TimeDifferences AS (\n",
    "        SELECT\n",
    "            user_id,          -- Only select columns you actually need\n",
    "            timestamp,\n",
    "            LAG(timestamp, 1, timestamp) OVER (PARTITION BY user_id ORDER BY timestamp) AS previous_timestamp\n",
    "        FROM\n",
    "            feature_table\n",
    "    ),\n",
    "    NewSequenceFlags AS (\n",
    "        SELECT\n",
    "            user_id,\n",
    "            timestamp,\n",
    "            CASE\n",
    "                WHEN (timestamp - previous_timestamp) > INTERVAL '{SESSION_TIMEOUT}' THEN 1\n",
    "                ELSE 0\n",
    "            END AS is_new_sequence_flag\n",
    "        FROM\n",
    "            TimeDifferences\n",
    "    ),\n",
    "    Sequences AS (\n",
    "        SELECT\n",
    "            user_id,\n",
    "            timestamp,\n",
    "            CONCAT(user_id, '_', SUM(is_new_sequence_flag) OVER (PARTITION BY user_id ORDER BY timestamp)) AS sequence_id\n",
    "        FROM\n",
    "            NewSequenceFlags\n",
    "    )\n",
    "    -- Final Step: Join the sequence_id back to the original table\n",
    "    SELECT\n",
    "        ft.*, -- Select all columns from the original feature_table\n",
    "        s.sequence_id\n",
    "    FROM\n",
    "        feature_table AS ft\n",
    "    JOIN\n",
    "        Sequences AS s ON ft.user_id = s.user_id AND ft.timestamp = s.timestamp;\n",
    "    \"\"\"\n",
    "\n",
    "    # --- Execute the Query ---\n",
    "    print(f\"Creating new table '{NEW_TABLE_NAME}' \")\n",
    "    conn.execute(query)\n",
    "    print(\"Table created successfully.\")\n",
    "\n",
    "    # --- Verification Step ---\n",
    "    print(\"\\n--- Verifying the new table (showing first 10 rows) ---\")\n",
    "    verification_df = conn.execute(\n",
    "        f\"SELECT user_id, timestamp, sequence_id FROM {NEW_TABLE_NAME} ORDER BY user_id, timestamp LIMIT 10;\"\n",
    "    ).fetchdf()\n",
    "    print(verification_df)\n",
    "\n",
    "    print(f\"\\nData with sequence IDs is now in the table '{NEW_TABLE_NAME}'.\")\n",
    "\n",
    "except Exception as e:\n",
    "    print(f\"An error occurred: {e}\")"
   ]
  },
  {
   "cell_type": "code",
   "execution_count": 12,
   "id": "58a9661f-c941-4f5f-b4d9-77f95f496d22",
   "metadata": {},
   "outputs": [],
   "source": [
    "conn.close()"
   ]
  }
 ],
 "metadata": {
  "kernelspec": {
   "display_name": "Python (Insider Threat Detection Venv)",
   "language": "python",
   "name": "insider_threat_detection_venv_kernel"
  },
  "language_info": {
   "codemirror_mode": {
    "name": "ipython",
    "version": 3
   },
   "file_extension": ".py",
   "mimetype": "text/x-python",
   "name": "python",
   "nbconvert_exporter": "python",
   "pygments_lexer": "ipython3",
   "version": "3.12.4"
  }
 },
 "nbformat": 4,
 "nbformat_minor": 5
}
